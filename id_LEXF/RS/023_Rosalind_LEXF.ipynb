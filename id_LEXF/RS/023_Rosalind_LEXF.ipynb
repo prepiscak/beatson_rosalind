{
 "cells": [
  {
   "cell_type": "markdown",
   "metadata": {},
   "source": [
    "# Enumerating k-mers Lexicographically\n",
    "\n",
    "### 023_Rosalind_LEXF\n",
    "\n",
    "## Organizing Strings\n",
    "\n",
    "When cataloguing a collection of genetic strings, we should have an established system by which to organize them. The standard method is to organize strings as they would appear in a dictionary, so that \"APPLE\" precedes \"APRON\", which in turn comes before \"ARMOR\".\n",
    "\n",
    "## Problem\n",
    "Assume that an alphabet A has a predetermined order; that is, we write the alphabet as a permutation $A = (a1,a2,…,ak)$, where $a1<a2<⋯<ak$. For instance, the English alphabet is organized as $(A,B,…,Z)$.\n",
    "\n",
    "Given two strings s and t having the same length n, we say that s precedes t in the lexicographic order (and write $s < _{Lex} t$) if the first symbol $s[j]$ that doesn't match $t[j]$ satisfies $s_j < t_j$ in $A$. \n",
    "\n",
    "### Given:\n",
    "\n",
    "A Collection of at most 10 symbols defining an ordered alphabet, and a postive integer $n (n \\leq 10)$.\n",
    "\n",
    "### Return:\n",
    "\n",
    "All strings of length $n$ that can be formed from the alphabet, ordered lexicographically (use the standard order of symbols in the ENglish alphabet).\n",
    "\n",
    "## Sample Dataset\n",
    "\n",
    "```\n",
    "A C G T\n",
    "2\n",
    "```\n",
    "\n",
    "## Sample Output\n",
    "\n",
    "```\n",
    "AA\n",
    "AC\n",
    "AG\n",
    "AT\n",
    "CA\n",
    "CC\n",
    "CG\n",
    "CT\n",
    "GA\n",
    "GC\n",
    "GG\n",
    "GT\n",
    "TA\n",
    "TC\n",
    "TG\n",
    "TT\n",
    "```"
   ]
  },
  {
   "cell_type": "markdown",
   "metadata": {},
   "source": [
    "# Solution one - make then sort\n",
    "\n",
    "### Make all the possible permutions and store them in a list.\n",
    "\n",
    "- load symbols and integer from a file.\n",
    "- store symbols in a list and sort the list\n",
    "- make all the posible permutations\n",
    "\n",
    "### Sort the list\n",
    "- Use .sort()\n",
    "\n",
    "### Print to a file\n",
    "- print to file\n",
    "- to screen print confirmation and number of permutations"
   ]
  },
  {
   "cell_type": "code",
   "execution_count": 1,
   "metadata": {},
   "outputs": [],
   "source": [
    "# Function to read in file\n",
    "## take a string path\n",
    "## return a integer and a string\n",
    "def readLexf(path):\n",
    "    fin = open(path, \"r\")\n",
    "    lines = fin.readlines()\n",
    "    #print(lines)\n",
    "    \n",
    "    # convert first line into list and second into integer\n",
    "    clst = lines[0].strip().split(\" \")\n",
    "    n = lines[1].strip()\n",
    "    print(clst)\n",
    "    print(n)\n",
    "    \n",
    "    return clst, n"
   ]
  },
  {
   "cell_type": "code",
   "execution_count": 2,
   "metadata": {},
   "outputs": [],
   "source": [
    "# Function to make all possible permutations\n",
    "## take in a list of permutations, list of characters and an integer for the length of each permutation\n",
    "## return a list of permutations\n",
    "def makePerms(plst, clst, n):\n",
    "    nplst = [] # empty array to hold all the permutations\n",
    "    #print(plst, clst, n)\n",
    "\n",
    "    # base case: \n",
    "    # if length of the string is 2 make the permutations and return\n",
    "    if n == 2:\n",
    "        for i in plst:\n",
    "            for j in clst:\n",
    "                nplst.append(i+j)\n",
    "        return nplst\n",
    "    \n",
    "    # all other cases make the new perm list and call the function\n",
    "    if n > 2:\n",
    "        for i in plst:\n",
    "            for j in clst:\n",
    "                nplst.append(i+j)\n",
    "        #print(nplst)\n",
    "        # call the function and pass the new list of permutation\n",
    "        return makePerms(nplst, clst, n - 1)\n",
    "        "
   ]
  },
  {
   "cell_type": "code",
   "execution_count": 3,
   "metadata": {},
   "outputs": [],
   "source": [
    "# Function to make file of permutations\n",
    "## Takes list of chars and int \n",
    "## Calls writePerm and makePerms\n",
    "def makePermFile(lst_char, len_int):\n",
    "    perm_lst = makePerms(lst_char, lst_char, len_int)\n",
    "    perm_lst.sort()\n",
    "    writePerm(perm_lst)"
   ]
  },
  {
   "cell_type": "code",
   "execution_count": 4,
   "metadata": {},
   "outputs": [],
   "source": [
    "# Function to write sorted list to a file\n",
    "## take in sorted list\n",
    "## create a file\n",
    "def writePerm(per_lst):\n",
    "    # open a file\n",
    "    fout = open('result_023.txt', 'w')\n",
    "    \n",
    "    # loop through the permutations\n",
    "    for i in per_lst:\n",
    "        fout.writelines(i + \"\\n\")\n",
    "    \n",
    "    # close the file\n",
    "    fout.close()"
   ]
  },
  {
   "cell_type": "code",
   "execution_count": 5,
   "metadata": {},
   "outputs": [],
   "source": [
    "# Command function \n",
    "## takes a string path\n",
    "def getPerms(path):\n",
    "    # get data from rosalind file\n",
    "    cl, ni =  readLexf(path)\n",
    "    n = int(ni)\n",
    "    # make the permutations and sort\n",
    "    perms = makePerms(cl, cl, n)\n",
    "    perms.sort()\n",
    "    \n",
    "    print(\"Number of permutations:\", len(perms))\n",
    "    # write the results to a file\n",
    "    writePerm(perms)"
   ]
  },
  {
   "cell_type": "code",
   "execution_count": 6,
   "metadata": {},
   "outputs": [
    {
     "name": "stdout",
     "output_type": "stream",
     "text": [
      "['A', 'B', 'C', 'D', 'E', 'F', 'G', 'H', 'I', 'J']\n",
      "2\n",
      "Number of permutations: 100\n"
     ]
    }
   ],
   "source": [
    "getPerms(\"rosalind_lexf.txt\")"
   ]
  }
 ],
 "metadata": {
  "kernelspec": {
   "display_name": "Python 3",
   "language": "python",
   "name": "python3"
  },
  "language_info": {
   "codemirror_mode": {
    "name": "ipython",
    "version": 3
   },
   "file_extension": ".py",
   "mimetype": "text/x-python",
   "name": "python",
   "nbconvert_exporter": "python",
   "pygments_lexer": "ipython3",
   "version": "3.6.8"
  }
 },
 "nbformat": 4,
 "nbformat_minor": 2
}
