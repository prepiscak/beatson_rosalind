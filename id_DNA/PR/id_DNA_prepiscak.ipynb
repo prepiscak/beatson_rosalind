{
 "cells": [
  {
   "cell_type": "markdown",
   "metadata": {},
   "source": [
    "# Counting DNA Nucleotides\n",
    "\n",
    "More detailed introduction: http://rosalind.info/problems/dna/\n",
    "\n",
    "## Problem\n",
    "A string is simply an ordered collection of symbols selected from some alphabet and formed into a word; the length of a string is the number of symbols that it contains.\n",
    "\n",
    "An example of a length 21 DNA string (whose alphabet contains the symbols 'A', 'C', 'G', and 'T') is \"ATGCTTCAGAAAGGTCTTACG.\"\n",
    "\n",
    "<span style=\"color:green\">Given: </span> A DNA string *s* of length at most 1000 nt.\n",
    "\n",
    "<span style=\"color:green\">Return: </span> Four integers (separated by spaces) counting the respective number of times that the symbols 'A', 'C', 'G', and 'T' occur in *s*.\n",
    "\n",
    "**Sample Dataset**\n",
    "```\n",
    "AGCTTTTCATTCTGACTGCAACGGGCAATATGTCTCTGTGTGGATTAAAAAAAGAGTGTCTGATAGCAGC\n",
    "```\n",
    "**Sample Output**\n",
    "```\n",
    "20 12 17 21\n",
    "```"
   ]
  },
  {
   "cell_type": "code",
   "execution_count": 14,
   "metadata": {},
   "outputs": [],
   "source": [
    "input_string = \"AGCTTTTCATTCTGACTGCAACGGGCAATATGTCTCTGTGTGGATTAAAAAAAGAGTGTCTGATAGCAGC\""
   ]
  },
  {
   "cell_type": "code",
   "execution_count": 15,
   "metadata": {},
   "outputs": [
    {
     "name": "stdout",
     "output_type": "stream",
     "text": [
      "20 12 17 21\n"
     ]
    }
   ],
   "source": [
    "print(\"{A} {C} {G} {T}\".format(A=input_string.count('A'), C=input_string.count('C'), G=input_string.count('G'), T=input_string.count('T')))"
   ]
  },
  {
   "cell_type": "markdown",
   "metadata": {},
   "source": [
    "## Method used\n",
    "    \n",
    "Docstring:\n",
    "**S.count(sub[, start[, end]]) -> int**\n",
    "\n",
    "Return the number of non-overlapping occurrences of substring sub in\n",
    "string S[start:end].  Optional arguments start and end are\n",
    "interpreted as in slice notation.\n",
    "Type:      method_descriptor\n",
    "    \n",
    "see: \n",
    "?str.count() - substring counting   \n",
    "output formatting - https://www.python-course.eu/python3_formatted_output.php"
   ]
  }
 ],
 "metadata": {
  "kernelspec": {
   "display_name": "Python 3",
   "language": "python",
   "name": "python3"
  },
  "language_info": {
   "codemirror_mode": {
    "name": "ipython",
    "version": 3
   },
   "file_extension": ".py",
   "mimetype": "text/x-python",
   "name": "python",
   "nbconvert_exporter": "python",
   "pygments_lexer": "ipython3",
   "version": "3.6.0"
  }
 },
 "nbformat": 4,
 "nbformat_minor": 2
}
