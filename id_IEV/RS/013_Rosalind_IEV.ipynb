{
 "cells": [
  {
   "cell_type": "markdown",
   "metadata": {},
   "source": [
    "# Calculating Expected Offspring\n",
    "\n",
    "## The Need for Averages\n",
    "\n",
    "Averages arise everywhere. In sports, we want to project the average number of games that a team is expected to win; in gambling, we want to project the average losses incurred playing blackjack; in business, companies want to calculate their average expected sales for the next quarter.\n",
    "Molecular biology is not immune from the need for averages. Researchers need to predict the expected number of antibiotic-resistant pathogenic bacteria in a future outbreak, estimate the predicted number of locations in the genome that will match a given motif, and study the distribution of alleles throughout an evolving population. In this problem, we will begin discussing the third issue; first, we need to have a better understanding of what it means to average a random process.\n",
    "\n",
    "## Problem\n",
    "\n",
    "For a random variable X taking integer values between 1 and n, the expected value of X is E(X)= ∑(n to k=1) k×Pr(X=k).\n",
    "The expected value offers us a way of taking the long-term average of a a random variable over a large number of trails.\n",
    "\n",
    "As a motivating example, let X be the number on a six-sided die. Over a large number of rolls, we should expect to obtain an average of 3.5 on the die (even though it's not possible to roll a 3.5). The formula for expected value confirms that E(X)= ∑(6 to k=1) k×Pr(X=k) = 3.5.\n",
    "\n",
    "More generally, a random variable for which every one of a number of equally spaced outcomes has the same prbability is called a uniform random variable (in the die example, this \"equal spacing\" is equal to 1). We can generalise our die example to find that if X is a uniform random variable with minimum possible value 'a' and maximum possible value 'b', then E(X) = (a+b)/2.\n",
    "\n",
    "### Given\n",
    "\n",
    "Six non-negative integers, each of which does not exceed 20,000. The integers correspond to the number of couples in a population possessing each geneotype pairing for a given factor. In order, the six given integers represent the number of couples having the following genotypes:\n",
    "\n",
    "1. AA-AA\n",
    "2. AA-Aa\n",
    "3. AA-aa\n",
    "4. Aa-Aa\n",
    "5. Aa-aa\n",
    "6. aa-aa\n",
    "\n",
    "### Return\n",
    "\n",
    "The expected number of offspring displaying the dominant phenotype in the next generation, under the assumption that every couple has exactly two offspring.\n",
    "\n",
    "## Sample Dataset\n",
    "\n",
    "> 1 0 0 1 0 1\n",
    "\n",
    "## Sample Output\n",
    "\n",
    "> 3.5\n"
   ]
  },
  {
   "cell_type": "markdown",
   "metadata": {},
   "source": [
    "# Definitions\n",
    "\n",
    "**Random Variable** A function that associates a real number with an event. \n",
    "Random variables are typically expressed using capital letters. If we represent a toin toss event as x and the Random Variable as T, then the Random Variable would be represented as:\n",
    "\n",
    "> T(x) = 1 If x is tails, 0 If x is heads.\n",
    "\n",
    "We can then construct an equation for the question \"What is the probablity of getting a tails?\". Well a tails is when T = 1 so:\n",
    "\n",
    "> P(T = 1) = 1/2\n",
    "\n",
    "Think of 'T=1' as an if statement. If this is true for the Random Variable get the related probability.\n",
    "\n",
    "**Expected Value** is the return you can expect for some kind of action. How many times would I get a 5 or 6 if I rolled 14d6? As you have two outcomes (1-4 or 5-6) this type of expected value is called an *expected value for a binomial variable*. This is the type of expected value for our offspring. They either have the dominant allele or don't.  It is binomial because there are only two possible outcomes.\n",
    "\n",
    "The expected value formula is the probability of the event multiplied by the amount of times the event happpens. For our dice rolls:\n",
    "\n",
    "> A(x) = 1 for roll of 5 or 6, 0 for 1-4\n",
    "\n",
    "> P(x) * n = P(A = 1) * 14 = 1/3 * 14 = 4 2/3 \n",
    "\n",
    "So if you roll 14d6 you can expect to get a 5 or a 6 four to five times."
   ]
  },
  {
   "cell_type": "markdown",
   "metadata": {},
   "source": [
    "# Workings\n",
    "\n",
    "1. Work out the probablity of getting a offspring with the dominant phenotype for each couple\n",
    "\n",
    "Calculate the probabilities from the Punnet Squares for each couple.\n",
    "\n",
    "![punnetTables](punnet.png)\n",
    "\n",
    "* 4/4 - 1, 2, 3\n",
    "* 3/4 - 4\n",
    "* 2/4 - 5\n",
    "* 0/4 - 6\n",
    "\n",
    "\n",
    "2. Use the expected value equation with the probablities\n",
    "\n",
    "The function should take two arrays; the population integers, and the probablities. As we have only one model, we will have fixed probabilities so the probabilities can be encoded into the function and we only have to pass the population array."
   ]
  },
  {
   "cell_type": "code",
   "execution_count": 1,
   "metadata": {},
   "outputs": [],
   "source": [
    "# probabilities\n",
    "props = [1.0, 1.0, 1.0, 0.75, 0.5, 0]\n",
    "# test populations\n",
    "pop = [1, 0, 0, 1, 0, 1]"
   ]
  },
  {
   "cell_type": "code",
   "execution_count": 18,
   "metadata": {},
   "outputs": [],
   "source": [
    "# sum the product of the two arrays and the number of offspring\n",
    "def iev(pop):\n",
    "    props = [1.0, 1.0, 1.0, 0.75, 0.5, 0]\n",
    "    offs = 0\n",
    "    for i in range(0, len(pop)):\n",
    "        offs = offs + (2 * props[i] * pop[i])\n",
    "    offs = offs\n",
    "    print(offs)"
   ]
  },
  {
   "cell_type": "code",
   "execution_count": 16,
   "metadata": {},
   "outputs": [
    {
     "name": "stdout",
     "output_type": "stream",
     "text": [
      "3.5\n"
     ]
    }
   ],
   "source": [
    "iev(pop)"
   ]
  },
  {
   "cell_type": "code",
   "execution_count": 20,
   "metadata": {},
   "outputs": [
    {
     "name": "stdout",
     "output_type": "stream",
     "text": [
      "156076.5\n"
     ]
    }
   ],
   "source": [
    "iev([19186, 18240, 19574, 16357, 17541, 19329])"
   ]
  },
  {
   "cell_type": "code",
   "execution_count": null,
   "metadata": {},
   "outputs": [],
   "source": []
  }
 ],
 "metadata": {
  "kernelspec": {
   "display_name": "Python 3",
   "language": "python",
   "name": "python3"
  },
  "language_info": {
   "codemirror_mode": {
    "name": "ipython",
    "version": 3
   },
   "file_extension": ".py",
   "mimetype": "text/x-python",
   "name": "python",
   "nbconvert_exporter": "python",
   "pygments_lexer": "ipython3",
   "version": "3.6.8"
  }
 },
 "nbformat": 4,
 "nbformat_minor": 2
}
