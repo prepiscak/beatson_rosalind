{
 "cells": [
  {
   "cell_type": "markdown",
   "metadata": {},
   "source": [
    "# id_IEV: Calculating Expected Offspring\n",
    "\n",
    "http://rosalind.info/problems/iev/"
   ]
  },
  {
   "cell_type": "code",
   "execution_count": 2,
   "metadata": {},
   "outputs": [
    {
     "name": "stdout",
     "output_type": "stream",
     "text": [
      "39142 36900 37482 26008.5 16734.0 0\n",
      "Expected dominant phenotype offsprings: 156266.5\n"
     ]
    }
   ],
   "source": [
    "def main():\n",
    "    with open(\"rosalind_iev.txt\", 'r') as inputfile:\n",
    "        AAAA, AAAa, AAaa, AaAa, Aaaa, aaaa = map(int, inputfile.readline().strip().split())\n",
    "          \n",
    "    offsprings=2\n",
    "\n",
    "\n",
    "    E_AAAA = 1*AAAA*offsprings\n",
    "    E_AAAa = 1*AAAa*offsprings\n",
    "    E_AAaa = 1*AAaa*offsprings\n",
    "    E_AaAa = 0.75*(AaAa*offsprings)\n",
    "    E_Aaaa = 0.5*Aaaa*offsprings\n",
    "    E_aaaa = 0*aaaa*offsprings # possibly remove\n",
    "    \n",
    "    EO_dominant = E_AAAA + E_AAAa + E_AAaa + E_AaAa + E_Aaaa + E_aaaa\n",
    "    \n",
    "    print(E_AAAA, E_AAAa, E_AAaa, E_AaAa, E_Aaaa, E_aaaa)  \n",
    "    print(\"Expected dominant phenotype offsprings: {}\".format(EO_dominant))\n",
    "    \n",
    "    return(EO_dominant)\n",
    "\n",
    "\n",
    "if __name__== \"__main__\":\n",
    "    main()"
   ]
  },
  {
   "cell_type": "code",
   "execution_count": null,
   "metadata": {},
   "outputs": [],
   "source": []
  }
 ],
 "metadata": {
  "kernelspec": {
   "display_name": "Python 3",
   "language": "python",
   "name": "python3"
  },
  "language_info": {
   "codemirror_mode": {
    "name": "ipython",
    "version": 3
   },
   "file_extension": ".py",
   "mimetype": "text/x-python",
   "name": "python",
   "nbconvert_exporter": "python",
   "pygments_lexer": "ipython3",
   "version": "3.7.1"
  }
 },
 "nbformat": 4,
 "nbformat_minor": 2
}
