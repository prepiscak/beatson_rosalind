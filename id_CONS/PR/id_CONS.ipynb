{
 "cells": [
  {
   "cell_type": "markdown",
   "metadata": {},
   "source": [
    "# Consensus and Profile\n",
    "\n",
    "1. Read in fasta sequences and construct sequence matrix (dna_mat)\n",
    "2. Construct profile (profile_mat)\n",
    "3. Construct consensus matrix (cons_mat) - matrix if more than one consensus strings possible"
   ]
  },
  {
   "cell_type": "code",
   "execution_count": 1,
   "metadata": {},
   "outputs": [],
   "source": [
    "#import Bio"
   ]
  },
  {
   "cell_type": "code",
   "execution_count": 13,
   "metadata": {},
   "outputs": [
    {
     "name": "stdout",
     "output_type": "stream",
     "text": [
      "Rosalind_1\n",
      "Seq('ATCCAGCT', SingleLetterAlphabet())\n",
      "8\n",
      "Rosalind_2\n",
      "Seq('GGGCAACT', SingleLetterAlphabet())\n",
      "8\n",
      "Rosalind_3\n",
      "Seq('ATGGATCT', SingleLetterAlphabet())\n",
      "8\n",
      "Rosalind_4\n",
      "Seq('AAGCAACC', SingleLetterAlphabet())\n",
      "8\n",
      "Rosalind_5\n",
      "Seq('TTGGAACT', SingleLetterAlphabet())\n",
      "8\n",
      "Rosalind_6\n",
      "Seq('ATGCCATT', SingleLetterAlphabet())\n",
      "8\n",
      "Rosalind_7\n",
      "Seq('ATGGCACT', SingleLetterAlphabet())\n",
      "8\n"
     ]
    }
   ],
   "source": [
    "from Bio import SeqIO\n",
    "for seq_record in SeqIO.parse(\"test.fasta\", \"fasta\"):\n",
    "    fasta_record = repr(seq_record.seq)\n",
    "    print(seq_record.id)\n",
    "    print(repr(seq_record.seq))\n",
    "    print(len(seq_record))"
   ]
  },
  {
   "cell_type": "code",
   "execution_count": 23,
   "metadata": {},
   "outputs": [],
   "source": [
    "import numpy as np\n",
    "\n",
    "from Bio import SeqIO\n",
    "with open(\"test.fasta\", \"r\") as fasta_handle: # test.fasta\n",
    "    fasta_record = list(SeqIO.parse(fasta_handle, \"fasta\"))\n",
    "    strings_length = [len(dna_string) for dna_string in fasta_record]\n",
    "    dna_strings = [list(str(dna_string.seq)) for dna_string in fasta_record]"
   ]
  },
  {
   "cell_type": "code",
   "execution_count": 24,
   "metadata": {},
   "outputs": [
    {
     "data": {
      "text/plain": [
       "[['A', 'T', 'C', 'C', 'A', 'G', 'C', 'T'],\n",
       " ['G', 'G', 'G', 'C', 'A', 'A', 'C', 'T'],\n",
       " ['A', 'T', 'G', 'G', 'A', 'T', 'C', 'T'],\n",
       " ['A', 'A', 'G', 'C', 'A', 'A', 'C', 'C'],\n",
       " ['T', 'T', 'G', 'G', 'A', 'A', 'C', 'T'],\n",
       " ['A', 'T', 'G', 'C', 'C', 'A', 'T', 'T'],\n",
       " ['A', 'T', 'G', 'G', 'C', 'A', 'C', 'T']]"
      ]
     },
     "execution_count": 24,
     "metadata": {},
     "output_type": "execute_result"
    }
   ],
   "source": [
    "dna_strings"
   ]
  },
  {
   "cell_type": "code",
   "execution_count": 25,
   "metadata": {},
   "outputs": [],
   "source": [
    "# create positional matrix\n",
    "string_length = strings_length[0]\n",
    "\n",
    "\n",
    "# manually transposing matrix\n",
    "dna_mat = []\n",
    "\n",
    "for position in range(string_length):\n",
    "    #dna_mat.append([item[position] for item in dna_strings].count('A'))\n",
    "    dna_mat.append([item[position] for item in dna_strings])\n",
    "    \n",
    "A_mat = [item.count('A') for item in dna_mat]\n",
    "C_mat = [item.count('C') for item in dna_mat]\n",
    "G_mat = [item.count('G') for item in dna_mat]\n",
    "T_mat = [item.count('T') for item in dna_mat]\n",
    "\n",
    "profile_mat = np.array([A_mat, C_mat, G_mat, T_mat]) # np.mat    "
   ]
  },
  {
   "cell_type": "code",
   "execution_count": 26,
   "metadata": {},
   "outputs": [
    {
     "data": {
      "text/plain": [
       "[['A', 'G', 'A', 'A', 'T', 'A', 'A'],\n",
       " ['T', 'G', 'T', 'A', 'T', 'T', 'T'],\n",
       " ['C', 'G', 'G', 'G', 'G', 'G', 'G'],\n",
       " ['C', 'C', 'G', 'C', 'G', 'C', 'G'],\n",
       " ['A', 'A', 'A', 'A', 'A', 'C', 'C'],\n",
       " ['G', 'A', 'T', 'A', 'A', 'A', 'A'],\n",
       " ['C', 'C', 'C', 'C', 'C', 'T', 'C'],\n",
       " ['T', 'T', 'T', 'C', 'T', 'T', 'T']]"
      ]
     },
     "execution_count": 26,
     "metadata": {},
     "output_type": "execute_result"
    }
   ],
   "source": [
    "dna_mat"
   ]
  },
  {
   "cell_type": "code",
   "execution_count": 27,
   "metadata": {},
   "outputs": [
    {
     "data": {
      "text/plain": [
       "(4, 8)"
      ]
     },
     "execution_count": 27,
     "metadata": {},
     "output_type": "execute_result"
    }
   ],
   "source": [
    "profile_mat.shape"
   ]
  },
  {
   "cell_type": "code",
   "execution_count": 28,
   "metadata": {},
   "outputs": [
    {
     "data": {
      "text/plain": [
       "array([[5, 1, 0, 0, 5, 5, 0, 0],\n",
       "       [0, 0, 1, 4, 2, 0, 6, 1],\n",
       "       [1, 1, 6, 3, 0, 1, 0, 0],\n",
       "       [1, 5, 0, 0, 0, 1, 1, 6]])"
      ]
     },
     "execution_count": 28,
     "metadata": {},
     "output_type": "execute_result"
    }
   ],
   "source": [
    "profile_mat"
   ]
  },
  {
   "cell_type": "code",
   "execution_count": 29,
   "metadata": {},
   "outputs": [
    {
     "data": {
      "text/plain": [
       "array([5, 5, 6, 4, 5, 5, 6, 6])"
      ]
     },
     "execution_count": 29,
     "metadata": {},
     "output_type": "execute_result"
    }
   ],
   "source": [
    "np.max(profile_mat, axis=0)"
   ]
  },
  {
   "cell_type": "code",
   "execution_count": 35,
   "metadata": {},
   "outputs": [
    {
     "data": {
      "text/plain": [
       "[0, 3, 2, 1, 0, 0, 1, 3]"
      ]
     },
     "execution_count": 35,
     "metadata": {},
     "output_type": "execute_result"
    }
   ],
   "source": [
    "cons_dict = {0: 'A', 1:'C', 2:'G', 3:'T'}\n",
    "\n",
    "#cons_indices_list = np.array(cons_indices)[0].tolist()\n",
    "cons_indices = np.argmax(profile_mat, axis=0)\n",
    "cons_indices_list = cons_indices.tolist()\n",
    "cons_indices_list"
   ]
  },
  {
   "cell_type": "code",
   "execution_count": 36,
   "metadata": {},
   "outputs": [
    {
     "name": "stdout",
     "output_type": "stream",
     "text": [
      "ATGCAACT\n"
     ]
    }
   ],
   "source": [
    "cons_string = [cons_dict[position] for position in cons_indices_list]\n",
    "print(\"\".join(cons_string))"
   ]
  },
  {
   "cell_type": "code",
   "execution_count": 37,
   "metadata": {},
   "outputs": [
    {
     "name": "stdout",
     "output_type": "stream",
     "text": [
      "A: 5 1 0 0 5 5 0 0\n",
      "C: 0 0 1 4 2 0 6 1\n",
      "G: 1 1 6 3 0 1 0 0\n",
      "T: 1 5 0 0 0 1 1 6\n"
     ]
    }
   ],
   "source": [
    "# Printing profile matrix\n",
    "\n",
    "# Converting integer list to string list \n",
    "# and joining the list using join() \n",
    "A_mat_str = \"A: \" + \" \".join(map(str, profile_mat[0,:].tolist()))\n",
    "C_mat_str = \"C: \" + \" \".join(map(str, profile_mat[1,:].tolist()))\n",
    "G_mat_str = \"G: \" + \" \".join(map(str, profile_mat[2,:].tolist()))\n",
    "T_mat_str = \"T: \" + \" \".join(map(str, profile_mat[3,:].tolist()))\n",
    "print(\"{}\\n{}\\n{}\\n{}\".format(A_mat_str, C_mat_str, G_mat_str, T_mat_str))"
   ]
  }
 ],
 "metadata": {
  "kernelspec": {
   "display_name": "Python 3",
   "language": "python",
   "name": "python3"
  },
  "language_info": {
   "codemirror_mode": {
    "name": "ipython",
    "version": 3
   },
   "file_extension": ".py",
   "mimetype": "text/x-python",
   "name": "python",
   "nbconvert_exporter": "python",
   "pygments_lexer": "ipython3",
   "version": "3.7.1"
  }
 },
 "nbformat": 4,
 "nbformat_minor": 2
}
