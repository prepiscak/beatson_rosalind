{
 "cells": [
  {
   "cell_type": "markdown",
   "metadata": {},
   "source": [
    "# Finding a protein motif"
   ]
  },
  {
   "cell_type": "markdown",
   "metadata": {},
   "source": [
    "## Overlapping motifs and Regular Expression\n",
    "\n",
    "See www.regular-expressions.info/lookaround.html\n",
    "\n",
    "The default setting for re to find a motif is find the motif in the string and then to start checking for another motif *after the original motif*. \n",
    "So in this problem you can have over lapping motifs \n",
    "\n",
    "**NNTS**A\n",
    "N**NTSA**\n",
    "\n",
    "The re function will not detect the second one with a normal re query. \n",
    "To check for overlapping motifs you need to be aware of the *lookaround* concept using the (?=u) syntax, where u in our case is the part of the query following N.\n",
    "\n",
    "So `N[^P][ST][^P]` will become `N(?=[^P][ST][^P])`."
   ]
  },
  {
   "cell_type": "code",
   "execution_count": 1,
   "metadata": {},
   "outputs": [],
   "source": [
    "# import all the required modules\n",
    "import re, os, requests"
   ]
  },
  {
   "cell_type": "code",
   "execution_count": 2,
   "metadata": {},
   "outputs": [],
   "source": [
    "# Function to load rosalind list and parse into list\n",
    "def loadRosalind(filepath):\n",
    "    # get file path\n",
    "    print(filepath)\n",
    "    ids = []\n",
    "    try:\n",
    "        with open(filepath) as file:\n",
    "            txt = file.read()\n",
    "        ids = txt.split('\\n')\n",
    "    except:\n",
    "        print(\"File not found\")\n",
    "    #print(ids)\n",
    "    ids = [i for i in ids if len(i) > 0]\n",
    "    print(ids)\n",
    "    return ids"
   ]
  },
  {
   "cell_type": "code",
   "execution_count": 3,
   "metadata": {},
   "outputs": [],
   "source": [
    "# get fasta from Uniprot\n",
    "def getFastas(ids):\n",
    "    faPro = {}\n",
    "    for protID in ids:\n",
    "        UniFastaULR = \"http://www.uniprot.org/uniprot/\" + protID + \".fasta\"\n",
    "        print(UniFastaULR)\n",
    "        UniFasta = requests.get(UniFastaULR)\n",
    "        faPro[protID] = \"\".join(UniFasta.text.split('\\n')[1:])\n",
    "        #print(faPro[protID])\n",
    "    return faPro"
   ]
  },
  {
   "cell_type": "code",
   "execution_count": 18,
   "metadata": {},
   "outputs": [],
   "source": [
    "def checkMotif(fasta):\n",
    "    inxLst = []\n",
    "    motif = re.compile(\"N(?=[^P][ST][^P])\")\n",
    "    inxLst = [(i.start() + 1) for i in re.finditer(motif, fasta)]\n",
    "   # inxLst = [i.end() for i in re.finditer(motif, fasta)]\n",
    "    return inxLst"
   ]
  },
  {
   "cell_type": "code",
   "execution_count": 8,
   "metadata": {},
   "outputs": [],
   "source": [
    "def main(fp):\n",
    "    IDs = loadRosalind(fp)\n",
    "    fastaD = getFastas(IDs)\n",
    "    resInx = {}\n",
    "    for key in fastaD:\n",
    "        tmp = checkMotif(fastaD[key])\n",
    "        print(key, len(tmp))\n",
    "        if len(tmp) > 0:\n",
    "            resInx[key] = tmp\n",
    "            \n",
    "    print()        \n",
    "    print(\"Results\")\n",
    "    print()\n",
    "    \n",
    "    for k in resInx:\n",
    "        print(k)\n",
    "        print(*resInx[k], sep=\" \")"
   ]
  },
  {
   "cell_type": "code",
   "execution_count": 12,
   "metadata": {},
   "outputs": [
    {
     "name": "stdout",
     "output_type": "stream",
     "text": [
      "/mnt/c/Users/rwswo/Documents/Bioinformatics/git/rosalindTry/proMotifTest.txt\n",
      "['A2Z669', 'B5ZC00', 'P07204_TRBM_HUMAN', 'P20840_SAG1_YEAST']\n",
      "http://www.uniprot.org/uniprot/A2Z669.fasta\n",
      "http://www.uniprot.org/uniprot/B5ZC00.fasta\n",
      "http://www.uniprot.org/uniprot/P07204_TRBM_HUMAN.fasta\n",
      "http://www.uniprot.org/uniprot/P20840_SAG1_YEAST.fasta\n",
      "A2Z669 0\n",
      "B5ZC00 5\n",
      "P07204_TRBM_HUMAN 4\n",
      "P20840_SAG1_YEAST 11\n",
      "\n",
      "Results\n",
      "\n",
      "B5ZC00\n",
      "85 118 142 306 395\n",
      "P07204_TRBM_HUMAN\n",
      "47 115 382 409\n",
      "P20840_SAG1_YEAST\n",
      "79 109 135 248 306 348 364 402 485 501 614\n"
     ]
    }
   ],
   "source": [
    "main(\"/mnt/c/Users/rwswo/Documents/Bioinformatics/git/rosalindTry/proMotifTest.txt\")"
   ]
  },
  {
   "cell_type": "code",
   "execution_count": 20,
   "metadata": {},
   "outputs": [
    {
     "name": "stdout",
     "output_type": "stream",
     "text": [
      "/mnt/c/Users/rwswo/Documents/Bioinformatics/git/rosalindTry/rosalind_mprt.txt\n",
      "['P21809_PGS1_BOVIN', 'P02974_FMM1_NEIGO', 'P05113_IL5_HUMAN', 'A8F2D7', 'P04180_LCAT_HUMAN', 'Q4FZD7', 'Q8ER84', 'P00304_ARA3_AMBEL', 'Q1E9Q9', 'P01878_ALC_MOUSE', 'Q5PA87', 'P81428_FA10_TROCA', 'P01047_KNL2_BOVIN', 'Q8R1Y2']\n",
      "http://www.uniprot.org/uniprot/P21809_PGS1_BOVIN.fasta\n",
      "http://www.uniprot.org/uniprot/P02974_FMM1_NEIGO.fasta\n",
      "http://www.uniprot.org/uniprot/P05113_IL5_HUMAN.fasta\n",
      "http://www.uniprot.org/uniprot/A8F2D7.fasta\n",
      "http://www.uniprot.org/uniprot/P04180_LCAT_HUMAN.fasta\n",
      "http://www.uniprot.org/uniprot/Q4FZD7.fasta\n",
      "http://www.uniprot.org/uniprot/Q8ER84.fasta\n",
      "http://www.uniprot.org/uniprot/P00304_ARA3_AMBEL.fasta\n",
      "http://www.uniprot.org/uniprot/Q1E9Q9.fasta\n",
      "http://www.uniprot.org/uniprot/P01878_ALC_MOUSE.fasta\n",
      "http://www.uniprot.org/uniprot/Q5PA87.fasta\n",
      "http://www.uniprot.org/uniprot/P81428_FA10_TROCA.fasta\n",
      "http://www.uniprot.org/uniprot/P01047_KNL2_BOVIN.fasta\n",
      "http://www.uniprot.org/uniprot/Q8R1Y2.fasta\n",
      "P21809_PGS1_BOVIN 2\n",
      "P02974_FMM1_NEIGO 3\n",
      "P05113_IL5_HUMAN 2\n",
      "A8F2D7 0\n",
      "P04180_LCAT_HUMAN 4\n",
      "Q4FZD7 1\n",
      "Q8ER84 1\n",
      "P00304_ARA3_AMBEL 1\n",
      "Q1E9Q9 5\n",
      "P01878_ALC_MOUSE 4\n",
      "Q5PA87 0\n",
      "P81428_FA10_TROCA 1\n",
      "P01047_KNL2_BOVIN 7\n",
      "Q8R1Y2 0\n",
      "\n",
      "Results\n",
      "\n",
      "P21809_PGS1_BOVIN\n",
      "271 312\n",
      "P02974_FMM1_NEIGO\n",
      "67 68 121\n",
      "P05113_IL5_HUMAN\n",
      "47 90\n",
      "P04180_LCAT_HUMAN\n",
      "44 108 296 408\n",
      "Q4FZD7\n",
      "528\n",
      "Q8ER84\n",
      "33\n",
      "P00304_ARA3_AMBEL\n",
      "41\n",
      "Q1E9Q9\n",
      "185 255 347 640 1326\n",
      "P01878_ALC_MOUSE\n",
      "38 99 314 329\n",
      "P81428_FA10_TROCA\n",
      "254\n",
      "P01047_KNL2_BOVIN\n",
      "47 87 168 169 197 204 280\n"
     ]
    }
   ],
   "source": [
    "main(\"/mnt/c/Users/rwswo/Documents/Bioinformatics/git/rosalindTry/rosalind_mprt.txt\")"
   ]
  },
  {
   "cell_type": "code",
   "execution_count": 19,
   "metadata": {},
   "outputs": [
    {
     "data": {
      "text/plain": [
       "[2, 3, 10, 11]"
      ]
     },
     "execution_count": 19,
     "metadata": {},
     "output_type": "execute_result"
    }
   ],
   "source": [
    "seq='ANNTTAAAANNTTAAA'\n",
    "# 2 3 10 11\n",
    "checkMotif(seq)"
   ]
  },
  {
   "cell_type": "code",
   "execution_count": null,
   "metadata": {},
   "outputs": [],
   "source": []
  }
 ],
 "metadata": {
  "kernelspec": {
   "display_name": "Python 3",
   "language": "python",
   "name": "python3"
  },
  "language_info": {
   "codemirror_mode": {
    "name": "ipython",
    "version": 3
   },
   "file_extension": ".py",
   "mimetype": "text/x-python",
   "name": "python",
   "nbconvert_exporter": "python",
   "pygments_lexer": "ipython3",
   "version": "3.6.8"
  }
 },
 "nbformat": 4,
 "nbformat_minor": 2
}
