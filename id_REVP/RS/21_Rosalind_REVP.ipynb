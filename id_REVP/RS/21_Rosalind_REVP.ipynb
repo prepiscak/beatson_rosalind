{
 "cells": [
  {
   "cell_type": "markdown",
   "metadata": {},
   "source": [
    "# Locating Restriction Sites\n",
    "\n",
    "## The Billion-Year War\n",
    "\n",
    "The war between viruses and bacteria has been waged for over a billion years. Viruses called bacteriophages (or simply phages) require a bacterial host to propagate, and so they must somehow infiltrate the bacterium; such deception can only be achieved if the phage understands the genetic framework underlying the bacterium's cellular functions. The phage's goal is to insert DNA that will be replicated within the bacterium and lead to the reproduction of as many copies of the phage as possible, which sometimes also involves the bacterium's demise.\n",
    "To defend itself, the bacterium must either obfuscate its cellular functions so that the phage cannot infiltrate it, or better yet, go on the counterattack by calling in the air force. Specifically, the bacterium employs aerial scouts called restriction enzymes, which operate by cutting through viral DNA to cripple the phage. But what kind of DNA are restriction enzymes looking for?\n",
    "\n",
    "The restriction enzyme is a homodimer, which means that it is composed of two identical substructures. Each of these structures separates from the restriction enzyme in order to bind to and cut one strand of the phage DNA molecule; both substructures are pre-programmed with the same target string containing 4 to 12 nucleotides to search for within the phage DNA. The chance that both strands of phage DNA will be cut (thus crippling the phage) is greater if the target is located on both strands of phage DNA, as close to each other as possible. By extension, the best chance of disarming the phage occurs when the two target copies appear directly across from each other along the phage DNA, a phenomenon that occurs precisely when the target is equal to its own reverse complement. Eons of evolution have made sure that most restriction enzyme targets now have this form.\n",
    "\n",
    "You may be curious how the bacterium prevents its own DNA from being cut by restriction enzymes. The short answer is that it locks itself from being cut through a chemical process called [[DNA methylation|http://rosalind.info/glossary/dna-methylation/]]."
   ]
  },
  {
   "cell_type": "markdown",
   "metadata": {},
   "source": [
    "## Problem\n",
    "\n",
    "A DNA string is a reverse palindrome if it is equal to its reverse complement. For instance, GCATGC is a reverse palindrome because its reverse complement is GCATGC.\n",
    "\n",
    "### Given: \n",
    "A DNA string of length at most 1 kbp in FASTA format.\n",
    "\n",
    "### Return: \n",
    "The position and length of every reverse palindrome in the string having length between 4 and 12. You may return these pairs in any order.\n",
    "\n",
    "### Sample Dataset\n",
    "```\n",
    ">Rosalind_24\n",
    "TCAATGCATGCGGGTCTATATGCAT\n",
    "```\n",
    "\n",
    "### Sample Output\n",
    "```\n",
    "4 6\n",
    "5 4\n",
    "6 6\n",
    "7 4\n",
    "17 4\n",
    "18 4\n",
    "20 6\n",
    "21 4\n",
    "```"
   ]
  },
  {
   "cell_type": "markdown",
   "metadata": {},
   "source": [
    "## Solution 1 - Check everything\n",
    "\n",
    "ATGCAT\n",
    "TACGTA\n",
    "\n",
    "Get all the kmers between 4 and 12 bases and compare them to the partner kmer on the reverse strand."
   ]
  },
  {
   "cell_type": "code",
   "execution_count": 1,
   "metadata": {},
   "outputs": [],
   "source": [
    "import Bio.Seq as bio\n",
    "from Bio import SeqIO"
   ]
  },
  {
   "cell_type": "code",
   "execution_count": 2,
   "metadata": {},
   "outputs": [],
   "source": [
    "# Function to compare kmers and pick palimdromes from nucleotide sequence\n",
    "def palindromeSol1(forward, reverse):\n",
    "    # loop through the forward sequence \n",
    "    for m in range(len(forward)):\n",
    "        # Loop through sequence starting at m\n",
    "        for n in range(m, len(forward)):            \n",
    "            kmer = forward[m:n + 1]\n",
    "            # Get the reverse kmer\n",
    "            reverse_k = reverse[m:n + 1]\n",
    "            # If the kmer is to short or long skip it\n",
    "            if len(kmer) >= 4 and len(kmer) <= 12:        \n",
    "                # Is the kmer a palindrome?\n",
    "                if kmer == reverse_k[::-1]:                \n",
    "                    print(m + 1, len(kmer))            "
   ]
  },
  {
   "cell_type": "code",
   "execution_count": 3,
   "metadata": {},
   "outputs": [
    {
     "name": "stdout",
     "output_type": "stream",
     "text": [
      "TCAATGCATGCGGGTCTATATGCAT\n",
      "AGTTACGTACGCCCAGATATACGTA\n"
     ]
    }
   ],
   "source": [
    "sStr = \"TCAATGCATGCGGGTCTATATGCAT\"\n",
    "sSeq = bio.Seq(sStr)\n",
    "print(sStr)\n",
    "sCom = sSeq.complement() \n",
    "print(sCom)"
   ]
  },
  {
   "cell_type": "code",
   "execution_count": 4,
   "metadata": {},
   "outputs": [
    {
     "name": "stdout",
     "output_type": "stream",
     "text": [
      "TCAATGCATGCGGGTCTATATGCAT\n",
      "ATGCATATAGACCCGCATGCATTGA\n"
     ]
    }
   ],
   "source": [
    "print(sStr)\n",
    "print(sCom[::-1])"
   ]
  },
  {
   "cell_type": "code",
   "execution_count": 5,
   "metadata": {},
   "outputs": [
    {
     "name": "stdout",
     "output_type": "stream",
     "text": [
      "4 6\n",
      "5 4\n",
      "6 6\n",
      "7 4\n",
      "17 4\n",
      "18 4\n",
      "20 6\n",
      "21 4\n"
     ]
    }
   ],
   "source": [
    "palindromeSol1(sStr, sCom)"
   ]
  },
  {
   "cell_type": "code",
   "execution_count": 7,
   "metadata": {},
   "outputs": [
    {
     "name": "stdout",
     "output_type": "stream",
     "text": [
      "1 4\n",
      "2 4\n",
      "26 4\n",
      "50 4\n",
      "54 4\n",
      "64 4\n",
      "80 4\n",
      "87 4\n",
      "95 4\n",
      "116 4\n",
      "121 4\n",
      "126 4\n",
      "202 6\n",
      "203 4\n",
      "224 4\n",
      "230 4\n",
      "241 4\n",
      "241 6\n",
      "242 4\n",
      "242 6\n",
      "243 4\n",
      "244 4\n",
      "248 6\n",
      "249 4\n",
      "254 4\n",
      "268 8\n",
      "269 6\n",
      "270 4\n",
      "286 4\n",
      "290 4\n",
      "296 4\n",
      "301 4\n",
      "305 4\n",
      "332 6\n",
      "333 4\n",
      "379 4\n",
      "410 4\n",
      "425 12\n",
      "426 10\n",
      "427 4\n",
      "427 8\n",
      "428 6\n",
      "429 4\n",
      "431 4\n",
      "448 4\n",
      "453 4\n",
      "464 6\n",
      "465 4\n",
      "482 4\n",
      "512 4\n",
      "513 6\n",
      "514 4\n",
      "519 4\n",
      "524 4\n",
      "527 4\n",
      "548 4\n",
      "568 4\n",
      "581 4\n",
      "590 4\n",
      "608 4\n",
      "613 4\n",
      "615 4\n",
      "618 4\n",
      "618 12\n",
      "619 10\n",
      "620 8\n",
      "621 4\n",
      "621 6\n",
      "622 4\n",
      "623 4\n",
      "626 4\n",
      "652 6\n",
      "653 4\n",
      "691 4\n",
      "716 4\n",
      "735 6\n",
      "736 4\n",
      "745 12\n",
      "746 10\n",
      "747 4\n",
      "747 8\n",
      "748 6\n",
      "749 4\n",
      "751 4\n",
      "761 4\n",
      "775 6\n",
      "776 4\n",
      "780 4\n",
      "793 4\n",
      "807 4\n",
      "816 4\n",
      "824 4\n",
      "846 4\n",
      "857 4\n"
     ]
    }
   ],
   "source": [
    "# Rosalind Data\n",
    "nucs = SeqIO.read('rosalind_revp.txt', 'fasta')\n",
    "frw = str(nucs.seq)                       \n",
    "rev = str(nucs.seq.complement())\n",
    "\n",
    "palindromeSol1(frw, rev)"
   ]
  },
  {
   "cell_type": "markdown",
   "metadata": {},
   "source": [
    "# Rosalind Solution\n",
    "\n",
    "## Principle:\n",
    "\n",
    "This problem is based on the reverse complement problem, only now you only need the reverse complement of a half site, then check whether it follows said \"half site\". So, for sites of a given length: \n",
    "\n",
    "* go through the sequence from beginning to end, taking each subsequence of half this length consequtively\n",
    "* compute the reverse complement of the half site\n",
    "* use string.find to check whether the following bases contain the reverse complement of the half-site\n",
    "* if so (= find does not return -1), add to the list of \"restriction sites\"\n",
    "* add 1 to the position to get the normal base counting starting at 1 rather than Python's 0.\n",
    "\n",
    "## Any advanced information\n",
    "\n",
    "This method only finds \"restriction sites\" that are complete reverse palidromes and thus consist of an even number of bases. In reality, 5-base sites also occur, the middle base is then often either A/G (IUPAC code R) or C/T (IUPAC code Y), i.e. several possible sequences can be cut by such an enzyme."
   ]
  }
 ],
 "metadata": {
  "kernelspec": {
   "display_name": "Python 3",
   "language": "python",
   "name": "python3"
  },
  "language_info": {
   "codemirror_mode": {
    "name": "ipython",
    "version": 3
   },
   "file_extension": ".py",
   "mimetype": "text/x-python",
   "name": "python",
   "nbconvert_exporter": "python",
   "pygments_lexer": "ipython3",
   "version": "3.6.8"
  }
 },
 "nbformat": 4,
 "nbformat_minor": 2
}
