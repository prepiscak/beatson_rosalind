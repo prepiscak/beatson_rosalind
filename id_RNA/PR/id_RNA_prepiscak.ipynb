{
 "cells": [
  {
   "cell_type": "markdown",
   "metadata": {},
   "source": [
    "# Transcribing DNA into RNA\n",
    "\n",
    "More detailed introduction: http://rosalind.info/problems/rna/\n",
    "\n",
    "## Problem\n",
    "\n",
    "An RNA string is a string formed from the alphabet containing 'A', 'C', 'G', and 'U'.\n",
    "\n",
    "Given a DNA string *t* corresponding to a coding strand, its transcribed RNA string *u* is formed by replacing all occurrences of 'T' in t with 'U' in *u*.\n",
    "\n",
    "<span style=\"color:green\">Given: </span> A DNA string *t* having length at most 1000 nt.\n",
    "\n",
    "<span style=\"color:green\">Return: </span> The transcribed RNA string of *t*..\n",
    "\n",
    "**Sample Dataset**\n",
    "```\n",
    "GATGGAACTTGACTACGTAAATT\n",
    "```\n",
    "**Sample Output**\n",
    "```\n",
    "GAUGGAACUUGACUACGUAAAUU\n",
    "```"
   ]
  },
  {
   "cell_type": "code",
   "execution_count": 1,
   "metadata": {},
   "outputs": [],
   "source": [
    "filename = \"rosalind_rna.txt\"\n",
    "\n",
    "with open(filename, \"r\") as file:\n",
    "    input_string=file.read()"
   ]
  },
  {
   "cell_type": "code",
   "execution_count": 2,
   "metadata": {},
   "outputs": [
    {
     "name": "stdout",
     "output_type": "stream",
     "text": [
      "GATGGAACTTGACTACGTAAATT\n",
      "\n"
     ]
    }
   ],
   "source": [
    "#input_string=\"GATGGAACTTGACTACGTAAATT\"\n",
    "# GAUGGAACUUGACUACGUAAAUU\n",
    "print(input_string)"
   ]
  },
  {
   "cell_type": "code",
   "execution_count": 3,
   "metadata": {},
   "outputs": [
    {
     "name": "stdout",
     "output_type": "stream",
     "text": [
      "GAUGGAACUUGACUACGUAAAUU\n",
      "\n"
     ]
    }
   ],
   "source": [
    "print(\"{RNAstring}\".format(RNAstring=input_string.replace('T', 'U')))"
   ]
  },
  {
   "cell_type": "markdown",
   "metadata": {},
   "source": [
    "## Method used\n",
    "    \n",
    "Docstring:\n",
    "S.replace(old, new[, count]) -> string\n",
    "\n",
    "Return a copy of string S with all occurrences of substring\n",
    "old replaced by new.  If the optional argument count is\n",
    "given, only the first count occurrences are replaced.\n",
    "Type:      method_descriptor\n"
   ]
  }
 ],
 "metadata": {
  "kernelspec": {
   "display_name": "Python 3",
   "language": "python",
   "name": "python3"
  },
  "language_info": {
   "codemirror_mode": {
    "name": "ipython",
    "version": 3
   },
   "file_extension": ".py",
   "mimetype": "text/x-python",
   "name": "python",
   "nbconvert_exporter": "python",
   "pygments_lexer": "ipython3",
   "version": "3.6.0"
  }
 },
 "nbformat": 4,
 "nbformat_minor": 2
}
