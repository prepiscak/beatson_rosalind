{
 "cells": [
  {
   "cell_type": "markdown",
   "metadata": {},
   "source": [
    "# Finding a Shared Motif\n",
    "\n",
    "## Searching Through the Haystackclick to collapse\n",
    "\n",
    "In “Finding a Motif in DNA”, we searched a given genetic string for a motif; however, this problem assumed that we know the motif in advance. In practice, biologists often do not know exactly what they are looking for. Rather, they must hunt through several different genomes at the same time to identify regions of similarity that may indicate genes shared by different organisms or species.\n",
    "\n",
    "The simplest such region of similarity is a motif occurring without mutation in every one of a collection of genetic strings taken from a database; such a motif corresponds to a substring shared by all the strings. We want to search for long shared substrings, as a longer motif will likely indicate a greater shared function.\n",
    "\n",
    "## Problem\n",
    "\n",
    "A common substring of a collection of strings is a substring of every member of the collection. We say that a common substring is a **longest common substring** if there does not exist a longer common substring. For example, \"CG\" is a common substring of \"A**CG**TACGT\" and \"AAC**CG**TATA\", but it is not as long as possible; in this case, \"CGTA\" is a longest common substring of \"A**CGTAC**GT\" and \"AAC**CGTA**TA\".\n",
    "\n",
    "Note that the longest common substring is not necessarily unique; for a simple example, \"AA\" and \"CC\" are both longest common substrings of \"AACC\" and \"CCAA\".\n",
    "\n",
    "### Given: \n",
    "A collection of k (k≤100) DNA strings of length at most 1 kbp each in FASTA format.\n",
    "\n",
    "### Return: \n",
    "A longest common substring of the collection. (If multiple solutions exist, you may return any single solution.)"
   ]
  },
  {
   "cell_type": "markdown",
   "metadata": {},
   "source": [
    "# Solution One: Lego Bricks\n",
    "\n",
    "Get a list of all the possible pairs of bases. Check each pair against the fasta file and keep the codon pairs that are found in all the sequences in a new list.\n",
    "Take this new list and add a codon to each pair and check again making a new list. Keep doing this untill the new list is null.\n",
    "\n",
    "## Functions\n",
    "\n",
    "* load fasta files using biopython\n",
    "* loop through fasta sequences and check motif\n",
    "* loop through motifs and check if they are valid (call above)"
   ]
  },
  {
   "cell_type": "code",
   "execution_count": 1,
   "metadata": {},
   "outputs": [],
   "source": [
    "# Load packages to parse fasta file and load file\n",
    "from Bio import SeqIO # Import biopython"
   ]
  },
  {
   "cell_type": "code",
   "execution_count": 2,
   "metadata": {},
   "outputs": [],
   "source": [
    "def getFasta():\n",
    "\n",
    "    # Load file from pathway provided by user\n",
    "    path = input(\"Please enter path to file (q to exit): \")\n",
    "    \n",
    "    if path == \"q\":\n",
    "        exit()\n",
    "    else:\n",
    "        fasta_sequences = SeqIO.parse(open(path,'fasta'))\n",
    "        # try catch to get file\n",
    "#         try:\n",
    "#             #open the fasta file\n",
    "#             fasta_sequences = SeqIO.parse(open(path,'fasta'))\n",
    "#         except expression as identifier:\n",
    "#             pass\n",
    "                                              \n",
    "    return fasta_sequences\n",
    "            "
   ]
  },
  {
   "cell_type": "code",
   "execution_count": 3,
   "metadata": {},
   "outputs": [],
   "source": [
    "# Check a motif string is in all fasta sequences. Return true or false\n",
    "def checkFasta(motif, fastas):\n",
    "    result = True\n",
    "    \n",
    "    for seq in fastas:\n",
    "        #print(seq)\n",
    "        if motif not in seq:\n",
    "            result = False\n",
    "            break\n",
    "    return result\n",
    "    "
   ]
  },
  {
   "cell_type": "code",
   "execution_count": 4,
   "metadata": {},
   "outputs": [],
   "source": [
    "# for each motif in a list add a base and check if found in fasta sequences\n",
    "# return list\n",
    "def newMotifs(motifs, fasta):\n",
    "    bases = [\"A\", \"T\", \"C\", \"G\"]\n",
    "    newLst = []\n",
    "    \n",
    "    for motif in motifs:\n",
    "        for base in bases:\n",
    "            potential = motif + base\n",
    "            if checkFasta(potential, fasta):\n",
    "                newLst.append(potential)\n",
    "    \n",
    "    #print(newLst)\n",
    "    \n",
    "    return newLst\n",
    "    "
   ]
  },
  {
   "cell_type": "code",
   "execution_count": 9,
   "metadata": {},
   "outputs": [],
   "source": [
    "# Main function\n",
    "# \n",
    "\n",
    "def main():\n",
    "    # get fasta files\n",
    "    fastaSeq = getFasta()\n",
    "    \n",
    "    getMotif(fastaSeq)\n",
    "    \n",
    "    \n",
    "def getMotif(fasta):\n",
    "    \n",
    "    # Original list of potential motifs\n",
    "    motifs = ['AT', 'AC', 'AG', 'AA', 'TA', 'TC', 'TG', 'TT','CA', 'CT', 'CG', 'CC', 'GA', 'GT', 'GC', 'GG']\n",
    "    count = 2\n",
    "    \n",
    "    # While motifs is not empty get the motifs\n",
    "    while len(motifs) > 0:\n",
    "        # Copy motifs to oldlist\n",
    "        oldMotifs = [x for x in motifs]\n",
    "        motifs = []\n",
    "        #print(motifs)\n",
    "        if count == 2:\n",
    "                for motif in oldMotifs:\n",
    "                    #print(motif)\n",
    "                    if checkFasta(motif, fasta):\n",
    "                        motifs.append(motif)\n",
    "                        #print(motifs)\n",
    "        else:\n",
    "            motifs = newMotifs(oldMotifs, fasta)\n",
    "            #print(motifs)\n",
    "        count += 1\n",
    "        #print(len(motifs))\n",
    "        \n",
    "    print(oldMotifs)\n",
    "        \n",
    "        "
   ]
  },
  {
   "cell_type": "code",
   "execution_count": 6,
   "metadata": {},
   "outputs": [
    {
     "name": "stdout",
     "output_type": "stream",
     "text": [
      "['GATTACA', 'TAGACCA', 'ATACA']\n",
      "['AC', 'TA', 'CA']\n"
     ]
    }
   ],
   "source": [
    "check = \"\"\"GATTACA\n",
    "TAGACCA\n",
    "ATACA\"\"\"\n",
    "\n",
    "check = check.split('\\n')\n",
    "\n",
    "print(check)\n",
    "getMotif(check)"
   ]
  },
  {
   "cell_type": "code",
   "execution_count": 11,
   "metadata": {},
   "outputs": [
    {
     "name": "stdout",
     "output_type": "stream",
     "text": [
      "['AC']\n",
      "['AC', 'CT']\n",
      "['ACT']\n",
      "[]\n",
      "['ACT']\n"
     ]
    }
   ],
   "source": [
    "check2 = \"\"\"ATCCAGCTACT\n",
    "GGGCAACTACT\n",
    "ATGGATCTACT\n",
    "AAGCAACCACT\n",
    "TTGGAACTACT\n",
    "ATGCCATTACT\n",
    "ATGGCACTACT\"\"\"\n",
    "\n",
    "check2 = check2.split('\\n')\n",
    "\n",
    "getMotif(check2)"
   ]
  },
  {
   "cell_type": "code",
   "execution_count": 23,
   "metadata": {},
   "outputs": [
    {
     "name": "stdout",
     "output_type": "stream",
     "text": [
      "<generator object parse at 0x7faf2957f3b8>\n"
     ]
    },
    {
     "ename": "FileNotFoundError",
     "evalue": "[Errno 2] No such file or directory: '>Rosalind_1\\nATCCAGCTACT\\n>Rosalind_2\\nGGGCAACTACT\\n>Rosalind_3\\nATGGATCTACT\\n>Rosalind_4\\nAAGCAACCACT\\n>Rosalind_5\\nTTGGAACTACT\\n>Rosalind_6\\nATGCCATTACT\\n>Rosalind_7\\nATGGCACTACT'",
     "output_type": "error",
     "traceback": [
      "\u001b[0;31m---------------------------------------------------------------------------\u001b[0m",
      "\u001b[0;31mFileNotFoundError\u001b[0m                         Traceback (most recent call last)",
      "\u001b[0;32m<ipython-input-23-0ca648b01d79>\u001b[0m in \u001b[0;36m<module>\u001b[0;34m\u001b[0m\n\u001b[1;32m     20\u001b[0m \u001b[0mprint\u001b[0m\u001b[0;34m(\u001b[0m\u001b[0mfastaf\u001b[0m\u001b[0;34m)\u001b[0m\u001b[0;34m\u001b[0m\u001b[0;34m\u001b[0m\u001b[0m\n\u001b[1;32m     21\u001b[0m \u001b[0;34m\u001b[0m\u001b[0m\n\u001b[0;32m---> 22\u001b[0;31m \u001b[0;32mfor\u001b[0m \u001b[0mf\u001b[0m \u001b[0;32min\u001b[0m \u001b[0mfastaf\u001b[0m\u001b[0;34m:\u001b[0m\u001b[0;34m\u001b[0m\u001b[0;34m\u001b[0m\u001b[0m\n\u001b[0m\u001b[1;32m     23\u001b[0m     \u001b[0mprint\u001b[0m\u001b[0;34m(\u001b[0m\u001b[0mf\u001b[0m\u001b[0;34m.\u001b[0m\u001b[0mid\u001b[0m\u001b[0;34m)\u001b[0m\u001b[0;34m\u001b[0m\u001b[0;34m\u001b[0m\u001b[0m\n\u001b[1;32m     24\u001b[0m \u001b[0;31m# for seq_record in fa:\u001b[0m\u001b[0;34m\u001b[0m\u001b[0;34m\u001b[0m\u001b[0;34m\u001b[0m\u001b[0m\n",
      "\u001b[0;32m~/miniconda3/envs/bioinfo/lib/python3.6/site-packages/Bio/SeqIO/__init__.py\u001b[0m in \u001b[0;36mparse\u001b[0;34m(handle, format, alphabet)\u001b[0m\n\u001b[1;32m    634\u001b[0m         \u001b[0;32mraise\u001b[0m \u001b[0mValueError\u001b[0m\u001b[0;34m(\u001b[0m\u001b[0;34m\"Invalid alphabet, %r\"\u001b[0m \u001b[0;34m%\u001b[0m \u001b[0malphabet\u001b[0m\u001b[0;34m)\u001b[0m\u001b[0;34m\u001b[0m\u001b[0;34m\u001b[0m\u001b[0m\n\u001b[1;32m    635\u001b[0m \u001b[0;34m\u001b[0m\u001b[0m\n\u001b[0;32m--> 636\u001b[0;31m     \u001b[0;32mwith\u001b[0m \u001b[0mas_handle\u001b[0m\u001b[0;34m(\u001b[0m\u001b[0mhandle\u001b[0m\u001b[0;34m,\u001b[0m \u001b[0mmode\u001b[0m\u001b[0;34m)\u001b[0m \u001b[0;32mas\u001b[0m \u001b[0mfp\u001b[0m\u001b[0;34m:\u001b[0m\u001b[0;34m\u001b[0m\u001b[0;34m\u001b[0m\u001b[0m\n\u001b[0m\u001b[1;32m    637\u001b[0m         \u001b[0;31m# Map the file format to a sequence iterator:\u001b[0m\u001b[0;34m\u001b[0m\u001b[0;34m\u001b[0m\u001b[0;34m\u001b[0m\u001b[0m\n\u001b[1;32m    638\u001b[0m         \u001b[0;32mif\u001b[0m \u001b[0mformat\u001b[0m \u001b[0;32min\u001b[0m \u001b[0m_FormatToIterator\u001b[0m\u001b[0;34m:\u001b[0m\u001b[0;34m\u001b[0m\u001b[0;34m\u001b[0m\u001b[0m\n",
      "\u001b[0;32m~/miniconda3/envs/bioinfo/lib/python3.6/contextlib.py\u001b[0m in \u001b[0;36m__enter__\u001b[0;34m(self)\u001b[0m\n\u001b[1;32m     79\u001b[0m     \u001b[0;32mdef\u001b[0m \u001b[0m__enter__\u001b[0m\u001b[0;34m(\u001b[0m\u001b[0mself\u001b[0m\u001b[0;34m)\u001b[0m\u001b[0;34m:\u001b[0m\u001b[0;34m\u001b[0m\u001b[0;34m\u001b[0m\u001b[0m\n\u001b[1;32m     80\u001b[0m         \u001b[0;32mtry\u001b[0m\u001b[0;34m:\u001b[0m\u001b[0;34m\u001b[0m\u001b[0;34m\u001b[0m\u001b[0m\n\u001b[0;32m---> 81\u001b[0;31m             \u001b[0;32mreturn\u001b[0m \u001b[0mnext\u001b[0m\u001b[0;34m(\u001b[0m\u001b[0mself\u001b[0m\u001b[0;34m.\u001b[0m\u001b[0mgen\u001b[0m\u001b[0;34m)\u001b[0m\u001b[0;34m\u001b[0m\u001b[0;34m\u001b[0m\u001b[0m\n\u001b[0m\u001b[1;32m     82\u001b[0m         \u001b[0;32mexcept\u001b[0m \u001b[0mStopIteration\u001b[0m\u001b[0;34m:\u001b[0m\u001b[0;34m\u001b[0m\u001b[0;34m\u001b[0m\u001b[0m\n\u001b[1;32m     83\u001b[0m             \u001b[0;32mraise\u001b[0m \u001b[0mRuntimeError\u001b[0m\u001b[0;34m(\u001b[0m\u001b[0;34m\"generator didn't yield\"\u001b[0m\u001b[0;34m)\u001b[0m \u001b[0;32mfrom\u001b[0m \u001b[0;32mNone\u001b[0m\u001b[0;34m\u001b[0m\u001b[0;34m\u001b[0m\u001b[0m\n",
      "\u001b[0;32m~/miniconda3/envs/bioinfo/lib/python3.6/site-packages/Bio/File.py\u001b[0m in \u001b[0;36mas_handle\u001b[0;34m(handleish, mode, **kwargs)\u001b[0m\n\u001b[1;32m    111\u001b[0m                 \u001b[0;32myield\u001b[0m \u001b[0mfp\u001b[0m\u001b[0;34m\u001b[0m\u001b[0;34m\u001b[0m\u001b[0m\n\u001b[1;32m    112\u001b[0m         \u001b[0;32melse\u001b[0m\u001b[0;34m:\u001b[0m\u001b[0;34m\u001b[0m\u001b[0;34m\u001b[0m\u001b[0m\n\u001b[0;32m--> 113\u001b[0;31m             \u001b[0;32mwith\u001b[0m \u001b[0mopen\u001b[0m\u001b[0;34m(\u001b[0m\u001b[0mhandleish\u001b[0m\u001b[0;34m,\u001b[0m \u001b[0mmode\u001b[0m\u001b[0;34m,\u001b[0m \u001b[0;34m**\u001b[0m\u001b[0mkwargs\u001b[0m\u001b[0;34m)\u001b[0m \u001b[0;32mas\u001b[0m \u001b[0mfp\u001b[0m\u001b[0;34m:\u001b[0m\u001b[0;34m\u001b[0m\u001b[0;34m\u001b[0m\u001b[0m\n\u001b[0m\u001b[1;32m    114\u001b[0m                 \u001b[0;32myield\u001b[0m \u001b[0mfp\u001b[0m\u001b[0;34m\u001b[0m\u001b[0;34m\u001b[0m\u001b[0m\n\u001b[1;32m    115\u001b[0m     \u001b[0;32melse\u001b[0m\u001b[0;34m:\u001b[0m\u001b[0;34m\u001b[0m\u001b[0;34m\u001b[0m\u001b[0m\n",
      "\u001b[0;31mFileNotFoundError\u001b[0m: [Errno 2] No such file or directory: '>Rosalind_1\\nATCCAGCTACT\\n>Rosalind_2\\nGGGCAACTACT\\n>Rosalind_3\\nATGGATCTACT\\n>Rosalind_4\\nAAGCAACCACT\\n>Rosalind_5\\nTTGGAACTACT\\n>Rosalind_6\\nATGCCATTACT\\n>Rosalind_7\\nATGGCACTACT'"
     ]
    }
   ],
   "source": [
    "# C:\\Users\\rwswo\\Documents\\Bioinformatics\\git\\rosalindTry\\rosalind_cons.txt\n",
    "\n",
    "fast = \"\"\">Rosalind_1\n",
    "ATCCAGCTACT\n",
    ">Rosalind_2\n",
    "GGGCAACTACT\n",
    ">Rosalind_3\n",
    "ATGGATCTACT\n",
    ">Rosalind_4\n",
    "AAGCAACCACT\n",
    ">Rosalind_5\n",
    "TTGGAACTACT\n",
    ">Rosalind_6\n",
    "ATGCCATTACT\n",
    ">Rosalind_7\n",
    "ATGGCACTACT\"\"\"\n",
    "\n",
    "#fa = [str(f.seq) for f in SeqIO.parse(fast,'fasta')]\n",
    "fastaf = SeqIO.parse(fast,'fasta')\n",
    "print(fastaf)\n",
    "\n",
    "for f in fastaf:\n",
    "    print(f.id)\n",
    "# for seq_record in fa:\n",
    "#     print(f)"
   ]
  }
 ],
 "metadata": {
  "kernelspec": {
   "display_name": "Python 3",
   "language": "python",
   "name": "python3"
  },
  "language_info": {
   "codemirror_mode": {
    "name": "ipython",
    "version": 3
   },
   "file_extension": ".py",
   "mimetype": "text/x-python",
   "name": "python",
   "nbconvert_exporter": "python",
   "pygments_lexer": "ipython3",
   "version": "3.6.8"
  }
 },
 "nbformat": 4,
 "nbformat_minor": 2
}
