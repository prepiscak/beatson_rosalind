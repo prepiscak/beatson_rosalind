{
 "cells": [
  {
   "cell_type": "markdown",
   "metadata": {},
   "source": [
    "# RNA Splicing\n",
    "\n",
    "## Genes are Discontiguous\n",
    "\n",
    "In “Transcribing DNA into RNA”, we mentioned that a strand of DNA is copied into a strand of RNA during transcription, but we neglected to mention how transcription is achieved.\n",
    "\n",
    "In the nucleus, an enzyme (i.e., a molecule that accelerates a chemical reaction) called RNA polymerase (RNAP) initiates transcription by breaking the bonds joining complementary bases of DNA. It then creates a molecule called precursor mRNA, or pre-mRNA, by using one of the two strands of DNA as a template strand: moving down the template strand, when RNAP encounters the next nucleotide, it adds the complementary base to the growing RNA strand, with the provision that uracil must be used in place of thymine.\n",
    "\n",
    "Because RNA is constructed based on complementarity, the second strand of DNA, called the coding strand, is identical to the new strand of RNA except for the replacement of thymine with uracil. Recall “Transcribing DNA into RNA”.\n",
    "\n",
    "After RNAP has created several nucleotides of RNA, the first separated complementary DNA bases then bond back together. The overall effect is very similar to a pair of zippers traversing the DNA double helix, unzipping the two strands and then quickly zipping them back together while the strand of pre-mRNA is produced.\n",
    "\n",
    "For that matter, it is not the case that an entire substring of DNA is transcribed into RNA and then translated into a peptide one codon at a time. In reality, a pre-mRNA is first chopped into smaller segments called introns and exons; for the purposes of protein translation, the introns are thrown out, and the exons are glued together sequentially to produce a final strand of mRNA. This cutting and pasting process is called splicing, and it is facilitated by a collection of RNA and proteins called a spliceosome. The fact that the spliceosome is made of RNA and proteins despite regulating the splicing of RNA to create proteins is just one manifestation of a molecular chicken-and-egg scenario that has yet to be fully resolved.\n",
    "\n",
    "In terms of DNA, the exons deriving from a gene are collectively known as the gene's coding region."
   ]
  },
  {
   "cell_type": "markdown",
   "metadata": {},
   "source": [
    "## Problem\n",
    "\n",
    "After identifying the exons and introns of an RNA string, we only need to delete the introns and concatenate the exons to form a new string ready for translation.\n",
    "\n",
    "### Given: \n",
    "A DNA string s (of length at most 1 kbp) and a collection of substrings of s acting as introns. All strings are given in FASTA format.\n",
    "\n",
    "### Return: \n",
    "\n",
    "A protein string resulting from transcribing and translating the exons of s. (Note: Only one solution will exist for the dataset provided.)"
   ]
  },
  {
   "cell_type": "markdown",
   "metadata": {},
   "source": [
    "## Sample Dataset\n",
    "\n",
    "```\n",
    ">Rosalind_10\n",
    "ATGGTCTACATAGCTGACAAACAGCACGTAGCAATCGGTCGAATCTCGAGAGGCATATGGTCACATGATCGGTCGAGCGTGTTTCAAAGTTTGCGCCTAG\n",
    ">Rosalind_12\n",
    "ATCGGTCGAA\n",
    ">Rosalind_15\n",
    "ATCGGTCGAGCGTGT\n",
    "```\n",
    "\n",
    "## Sample Output\n",
    "\n",
    "```\n",
    "MVYIADKQHVASREAYGHMFKVCA\n",
    "```"
   ]
  },
  {
   "cell_type": "markdown",
   "metadata": {},
   "source": [
    "# Solution 1 - find\n",
    "\n",
    "Parts of code:\n",
    "* Convert fasta into sequences\n",
    "* Remove intron sequence from precursor sequence\n",
    "* Convert mature sequence into protein"
   ]
  },
  {
   "cell_type": "code",
   "execution_count": 1,
   "metadata": {},
   "outputs": [],
   "source": [
    "# Import the biopython package\n",
    "import Bio.Seq as bio\n",
    "from Bio import SeqIO\n",
    "from Bio.Seq import Seq"
   ]
  },
  {
   "cell_type": "code",
   "execution_count": 2,
   "metadata": {},
   "outputs": [],
   "source": [
    "# Function to strip introns from sequence"
   ]
  },
  {
   "cell_type": "code",
   "execution_count": 3,
   "metadata": {},
   "outputs": [],
   "source": [
    "# Function to load fasta file and split into precursor \n",
    "# and introns\n",
    "def getSeq(path):\n",
    "    # load the fasta file and split the various sequences into a list\n",
    "    seq_records = list(SeqIO.parse(path, \"fasta\"))\n",
    "#     for seq_record in seq_records:\n",
    "#         # id of the sequence\n",
    "#         print(seq_record.id)\n",
    "#         # sequence object\n",
    "#         print(repr(seq_record.seq))\n",
    "#         # length of record\n",
    "#         print(len(seq_record))\n",
    "        \n",
    "#     # string of the sequence\n",
    "#     print(seq_records[0].seq)\n",
    "    \n",
    "    # return the fasta object\n",
    "    return seq_records"
   ]
  },
  {
   "cell_type": "code",
   "execution_count": 4,
   "metadata": {},
   "outputs": [],
   "source": [
    "# Function to make array of strings sfrom the sequence\n",
    "## first element the immature sequence\n",
    "## remainder the introns\n",
    "def makeRNAarray(bioObject):\n",
    "    rnaArray = []\n",
    "    for seq in bioObject:\n",
    "        #print(str(seq.seq))\n",
    "        rnaArray.append(str(seq.seq))\n",
    "        \n",
    "    return rnaArray"
   ]
  },
  {
   "cell_type": "code",
   "execution_count": 5,
   "metadata": {},
   "outputs": [],
   "source": [
    "# Function to remove the introns\n",
    "def removeIntrons(rnaArr):\n",
    "    mRNA = rnaArr[0]\n",
    "    #print(len(mRNA))\n",
    "    for intron in range(1, len(rnaArr)):\n",
    "        #print(rnaArr[intron])\n",
    "        #print(len(rnaArr[intron]))\n",
    "        mRNA = mRNA.replace(rnaArr[intron], \"\")\n",
    "        #print(mRNA)\n",
    "        #print(len(mRNA))\n",
    "    #print(mRNA)\n",
    "    return mRNA"
   ]
  },
  {
   "cell_type": "code",
   "execution_count": 6,
   "metadata": {},
   "outputs": [],
   "source": [
    "# getProtein Function\n",
    "def getProtein(path):\n",
    "    ## Load sequences\n",
    "    rna = makeRNAarray(getSeq(path))\n",
    "    ## Create mature messanger RNA\n",
    "    mRNA = removeIntrons(rna)\n",
    "    #print(mRNA)\n",
    "    ## Translate to peptides\n",
    "    peptides = Seq(mRNA).translate()\n",
    "    ## Print protein string\n",
    "    ## May have to remove trailing *\n",
    "    print(str(peptides).strip('*'))"
   ]
  },
  {
   "cell_type": "code",
   "execution_count": 7,
   "metadata": {},
   "outputs": [
    {
     "name": "stdout",
     "output_type": "stream",
     "text": [
      "MVYIADKQHVASREAYGHMFKVCA\n"
     ]
    }
   ],
   "source": [
    "#removeIntrons(makeRNAarray(getSeq(\"ros22test.fasta\")))\n",
    "getProtein(\"ros22test.fasta\")"
   ]
  },
  {
   "cell_type": "code",
   "execution_count": 8,
   "metadata": {},
   "outputs": [
    {
     "name": "stdout",
     "output_type": "stream",
     "text": [
      "MAPGIVGRLRTRTHHLPEVLGHTYSGRLVPGFSPSSTSPRRKRTKCIDTDVHVPHCHHPRYRVLRPFKKTTRGGHTMSNIQGHVRAFTEPIPSRRPSQTYYRTVRNSPKVRLGSCRSGTAVFYLEGGRCRLPRRPVPLRIPQRLLGSVAYNTLNNDLQQIERADQKCLLLSRPRAALQVMDCHLRTYTRIG\n"
     ]
    }
   ],
   "source": [
    "getProtein(\"rosalind_splc.txt\")"
   ]
  },
  {
   "cell_type": "markdown",
   "metadata": {},
   "source": [
    "# Rosalind Explanation\n",
    "\n",
    "Program core: the spliceosome\n",
    "In real life, an enzyme complex that processes the pre-mRNA to mature RNA by cutting out the introns.\n",
    "In this program, it is a function the takes the first sequences of the FASTA file as the pre-mRNA, and all following as the introns.\n",
    "taking the introns one by one, it then splits the sequence in the part before the intron, and the part behind it.\n",
    "those two parts are joined into one string again\n",
    "the process is then repeated for all following introns on the shortened sequence from the previous round\n",
    "for the translation of the final \"mature mRNA\", a dictionary that has the codons as the keys can be used, e.g. \"ATG\": M (methionine, the start codon).\n",
    "\n",
    "## Pseudo code\n",
    "\n",
    "function spiceosome on pre-mRNA + list of introns:\n",
    "\n",
    "```\n",
    "looping over all introns:\n",
    "    find start position of intron\n",
    "    find length of said intron\n",
    "    sequence before = pre-mRNA[0:start of intron]\n",
    "    sequence after = pre-mRNA[start of intron + length of intron : end of sequence]\n",
    "    join sequence before & sequence after\n",
    "```\n",
    "\n",
    "return final assembled sequence\n",
    "\n",
    "## Any advanced information\n",
    "\n",
    "In the setting of the problem, the sequences are give as DNA. To convert into RNA, replace the Ts with U (for uracil). Also the sugar backbone is different, but this doesn't influence the sequence analysis."
   ]
  },
  {
   "cell_type": "markdown",
   "metadata": {},
   "source": [
    "## Refinements\n",
    "\n",
    "1. Check if the introns overlap. If so give alternative splicing proteins.\n",
    "2. Sort into one function taking the biopython sequence function, and one loading and parsing the file."
   ]
  },
  {
   "cell_type": "code",
   "execution_count": null,
   "metadata": {},
   "outputs": [],
   "source": []
  }
 ],
 "metadata": {
  "kernelspec": {
   "display_name": "Python 3",
   "language": "python",
   "name": "python3"
  },
  "language_info": {
   "codemirror_mode": {
    "name": "ipython",
    "version": 3
   },
   "file_extension": ".py",
   "mimetype": "text/x-python",
   "name": "python",
   "nbconvert_exporter": "python",
   "pygments_lexer": "ipython3",
   "version": "3.6.8"
  }
 },
 "nbformat": 4,
 "nbformat_minor": 2
}
