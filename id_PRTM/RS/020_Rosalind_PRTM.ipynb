{
 "cells": [
  {
   "cell_type": "markdown",
   "metadata": {},
   "source": [
    "# Calculating Protein Mass\n",
    "\n",
    "## Chaining the Amino Acids\n",
    "\n",
    "In “Translating RNA into Protein”, we examined the translation of RNA into an amino acid chain for the construction of a protein. When two amino acids link together, they form a peptide bond, which releases a molecule of water; see Figure 1. Thus, after a series of amino acids have been linked together into a polypeptide, every pair of adjacent amino acids has lost one molecule of water, meaning that a polypeptide containing n amino acids has had n−1 water molecules removed.\n",
    "\n",
    "More generally, a residue is a molecule from which a water molecule has been removed; every amino acid in a protein are residues except the leftmost and the rightmost ones. These outermost amino acids are special in that one has an \"unstarted\" peptide bond, and the other has an \"unfinished\" peptide bond. Between them, the two molecules have a single \"extra\" molecule of water. Thus, the mass of a protein is the sum of masses of all its residues plus the mass of a single water molecule.\n",
    "\n",
    "There are two standard ways of computing the mass of a residue by summing the masses of its individual atoms. Its monoisotopic mass is computed by using the principal (most abundant) isotope of each atom in the amino acid, whereas its average mass is taken by taking the average mass of each atom in the molecule (over all naturally appearing isotopes).\n",
    "\n",
    "Many applications in proteomics rely on mass spectrometry, an analytical chemical technique used to determine the mass, elemental composition, and structure of molecules. In mass spectrometry, monoisotopic mass is used more often than average mass, and so all amino acid masses are assumed to be monoisotopic unless otherwise stated.\n",
    "\n",
    "The standard unit used in mass spectrometry for measuring mass is the atomic mass unit, which is also called the dalton (Da) and is defined as one twelfth of the mass of a neutral atom of carbon-12. The mass of a protein is the sum of the monoisotopic masses of its amino acid residues plus the mass of a single water molecule (whose monoisotopic mass is 18.01056 Da).\n",
    "\n",
    "In the following several problems on applications of mass spectrometry, we avoid the complication of having to distinguish between residues and non-residues by only considering peptides excised from the middle of the protein. This is a relatively safe assumption because in practice, peptide analysis is often performed in tandem mass spectrometry. In this special class of mass spectrometry, a protein is first divided into peptides, which are then broken into ions for mass analysis."
   ]
  },
  {
   "cell_type": "markdown",
   "metadata": {},
   "source": [
    "## Problem\n",
    "\n",
    "In a weighted alphabet, every symbol is assigned a positive real number called a weight. A string formed from a weighted alphabet is called a weighted string, and its weight is equal to the sum of the weights of its symbols.\n",
    "\n",
    "The standard weight assigned to each member of the 20-symbol amino acid alphabet is the monoisotopic mass of the corresponding amino acid.\n",
    "\n",
    "## Given: \n",
    "A protein string P of length at most 1000 aa.\n",
    "\n",
    "## Return: \n",
    "The total weight of P. Consult the monoisotopic mass table.\n",
    "\n",
    "#### Sample Dataset\n",
    "\n",
    "```\n",
    "SKADYEK\n",
    "```\n",
    "\n",
    "#### Sample Output\n",
    "\n",
    "```\n",
    "821.392\n",
    "``` "
   ]
  },
  {
   "cell_type": "code",
   "execution_count": 18,
   "metadata": {},
   "outputs": [],
   "source": [
    "import os"
   ]
  },
  {
   "cell_type": "code",
   "execution_count": 3,
   "metadata": {},
   "outputs": [],
   "source": [
    "aaweight = {\"A\": 71.03711, \"C\": 103.00919, \"D\": 115.02694, \"E\": 129.04259, \"F\": 147.06841, \"G\": 57.02146, \n",
    "            \"H\": 137.05891, \"I\": 113.08406, \"K\": 128.09496, \"L\": 113.08406, \"M\": 131.04049, \"N\":114.04293, \n",
    "            \"P\": 97.05276, \"Q\": 128.05858, \"R\": 156.10111, \"S\": 87.03203, \"T\": 101.04768, \"V\": 99.06841, \n",
    "            \"W\": 186.07931, \"Y\" :163.06333}"
   ]
  },
  {
   "cell_type": "code",
   "execution_count": 16,
   "metadata": {},
   "outputs": [],
   "source": [
    "def getProWeight(aaseq):\n",
    "    weight = 0\n",
    "    for aa in aaseq:\n",
    "        weight += aaweight[aa]\n",
    "        \n",
    "    weight = \"{}\".format(round(weight, 3))\n",
    "    return weight"
   ]
  },
  {
   "cell_type": "code",
   "execution_count": 17,
   "metadata": {},
   "outputs": [
    {
     "data": {
      "text/plain": [
       "'821.392'"
      ]
     },
     "execution_count": 17,
     "metadata": {},
     "output_type": "execute_result"
    }
   ],
   "source": [
    "getProWeight(\"SKADYEK\")"
   ]
  },
  {
   "cell_type": "code",
   "execution_count": 25,
   "metadata": {},
   "outputs": [],
   "source": [
    "def readSequence(fn):\n",
    "    # Check file exists and if so load in data\n",
    "    exists = os.path.isfile(fn)\n",
    "    if exists:\n",
    "        # Store configuration file values\n",
    "        print(\"File found\")\n",
    "        # Load data and split by new line\n",
    "        with open(fn, 'r') as fhand:\n",
    "            dt = fhand.read().strip('\\n')\n",
    "            #print(dt)\n",
    "            return dt\n",
    "                #check_file(dt)\n",
    "    else:\n",
    "        print(\"Sorry, couldn't find the file.\")\n",
    "        exit()"
   ]
  },
  {
   "cell_type": "code",
   "execution_count": 26,
   "metadata": {},
   "outputs": [
    {
     "name": "stdout",
     "output_type": "stream",
     "text": [
      "File found\n"
     ]
    },
    {
     "data": {
      "text/plain": [
       "'MHMRDWPDFEVGRDFHDHHQDMYNHIYDKQHESPQRHTSDFYYVEHDCIWQRSSTLGYPAEHFQVGTKATGYNCEPYLFLAEFIRYQEDKTGWWRTMYIMKDIKYREAIGHYHAPNCFAFGLWYTDGWTAATGKAWYKWPTPKKRLVQWVDFITKKPVYKRPPLCTRGGLESQNESRPEQHERPITMWCPPFRYEGIIFCLFLDKNLYQSYLWWVGTFLPVWPRDHNLPDNPYTKFATWVFSLWWMEVCEMPASSSVREGHPSQKSTNSYGGMDCQSAGAQECFVIEVDGIRVRIDWAARRRWYTLHFFNWGITWSEENWLSMLTQSFYRANDCDVRRFAFCGTLGFGVEYMPPLADFAANGHVDDESQCSAQWHFEQTNYMMHSEVYNYIPFGQTAYQFMCVSMFVNDTMCDFTHWELLTRQIFHSLNAKSDKCTTWMFRCNAHRDKICDIRWWMRKWQRSVTATWHYLINARAIKCTMTPCAGGDDLRQPMIELFTEDVLKQNHLFGFCIGHEWEFVECPKCNEREHQREWPRCANVLGSLIIFVCSMDACDCTNSIEDYRTQKVWAHCSKSFCYSWNWPAMIHWKLQMRHMKYHDWAWTFTEKPGDNWFRWRLFMASWFADVAINYDPVGCQGGITPGLCKLVECWMKKRGIRMSLIDWEINTAERGQSPFPIDMPQVIFVGATKTDFSNTHTAYSNACWAEVYDQWKKLKHKAEGDDLARPMVTKFCMLGPWIKQWDDTYCWVHHVVIETPFKCPANFHKGDHMRCYMELEPCRWMESFWGLTGKPVETVDKNSMPPALPFWDSTAVVMVQAPWEWEDCSTISMKTAMSMRDADCSQIMCHFKKKYDCMTMGIFPDVDVVSAFGWKLTTMEQDDCEAPYWQVRAWQDATWVLCAVISAKGYALTTKAIWHTDMHIILFVLEYRDFVRMENPDSSWPQCKDIWRGINRGDYNYDEKEKVMAYVFYHTHLATSYYKVPCCMMADECQKSNEIVHMEE'"
      ]
     },
     "execution_count": 26,
     "metadata": {},
     "output_type": "execute_result"
    }
   ],
   "source": [
    "readSequence(\"rosalind_mrna.txt\")"
   ]
  },
  {
   "cell_type": "code",
   "execution_count": 28,
   "metadata": {},
   "outputs": [],
   "source": [
    "def proteinWeight(filename):\n",
    "    aseq = readSequence(filename)\n",
    "    print(getProWeight(aseq))"
   ]
  },
  {
   "cell_type": "code",
   "execution_count": 29,
   "metadata": {},
   "outputs": [
    {
     "name": "stdout",
     "output_type": "stream",
     "text": [
      "File found\n",
      "118559.413\n"
     ]
    }
   ],
   "source": [
    "proteinWeight(\"rosalind_mrna.txt\")"
   ]
  },
  {
   "cell_type": "code",
   "execution_count": 30,
   "metadata": {},
   "outputs": [
    {
     "name": "stdout",
     "output_type": "stream",
     "text": [
      "File found\n",
      "113877.072\n"
     ]
    }
   ],
   "source": [
    "proteinWeight(\"rosalind_prtm.txt\")"
   ]
  },
  {
   "cell_type": "code",
   "execution_count": null,
   "metadata": {},
   "outputs": [],
   "source": []
  }
 ],
 "metadata": {
  "kernelspec": {
   "display_name": "Python 3",
   "language": "python",
   "name": "python3"
  },
  "language_info": {
   "codemirror_mode": {
    "name": "ipython",
    "version": 3
   },
   "file_extension": ".py",
   "mimetype": "text/x-python",
   "name": "python",
   "nbconvert_exporter": "python",
   "pygments_lexer": "ipython3",
   "version": "3.6.8"
  }
 },
 "nbformat": 4,
 "nbformat_minor": 2
}
