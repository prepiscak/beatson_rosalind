{
 "cells": [
  {
   "cell_type": "markdown",
   "metadata": {},
   "source": [
    "# Independent Alleles\n",
    "\n",
    "## Mendel's Second Law\n",
    "\n",
    "Recall that Mendel's first law states that for any factor, an individual randomly assigns one of its two alleles to its offspring. Yet this law does not state anything regarding the relationship with which alleles for different factors will be inherited.\n",
    "\n",
    "After recording the results of crossing thousands of pea plants for seven years, Mendel surmised that alleles for different factors are inherited with no dependence on each other. This statement has become his second law, also known as the law of independent assortment.\n",
    "\n",
    "What does it mean for factors to be \"assorted independently?\" If we cross two organisms, then a shortened form of independent assortment states that if we look only at organisms having the same alleles for one factor, then the inheritance of another factor should not change.\n",
    "\n",
    "For example, Mendel's first law states that if we cross two **Aa** organisms, then 1/4 of their offpring will be **aa**, 1/4 will be **AA**, and 1/2 will be **Aa**. Now, say that we cross plants that are both *heterozygous* for two factors, so that both of their genotypes may be written as **Aa Ba**. Next, examine only **Bb** offspring: Mendel's second law states that the same proportions of **AA**, **Aa**, and **aa** individuals will be observed in these offspring. The same fact holds for **BB** and **bb** offspring.\n",
    "\n",
    "As a result, independence will allow us to say that the probability of an **aa BB** offspring is simpy equal to the probability of an **aa** offspring times the probability of an **BB** organism, i.e., 1/4 * 1/4 = 1/16.\n",
    "Because of independence, we can extend the idea of *Punnett squares* to multiple factors. We now wish to quantify Mendel's notion of independence using probability."
   ]
  },
  {
   "cell_type": "markdown",
   "metadata": {},
   "source": [
    "## Problem\n",
    "\n",
    "Two events *A and B* are independent of **Pr(A and B)** is equal to **Pr(A) x Pr(B)**. In other words, the events do not influence each other, so that we may simply calculate each of the individual probabilities separately and then multiply.\n",
    "\n",
    "More generally, random variables **X and Y** are independent if whenever A and B are respective events for X and Y, A and B are independent (i.e., **Pr(A and B) = Pr(A) x Pr(B)**).\n",
    "\n",
    "As an example of how helpful independence can be for calculating probabilities, let **X** and **Y** represent the numbers showing on two six-sided dice. Intuitively, the number of pips showing on one die should not affect the number showing on the other die. If we want to find the probability that **X + Y** is odd, then we don't need to draw a tree diagram and consider all possibilities. We simply first note that for **X + Y** to be odd, either X is even and Y  is odd or X is odd and Y is even.\n",
    "\n",
    "In terms of probability: \n",
    "\n",
    "$$Pr(X + Y~ is~ odd) = Pr(X~ is~ even~ and~ Y~ is~ odd) + Pr(X~ is~ odd~ and~ Y~ is~ even)$$\n",
    "\n",
    "Using independence, this becomes:\n",
    "\n",
    "$$[Pr((X~ is~ even) * Pr(Y~ is~ odd)] + [Pr((X~ is~ odd) * Pr(Y~ is~ even)]$$\n",
    "\n",
    "or\n",
    "\n",
    "$$(\\frac 1 2)^2 + ( \\frac 1 2)^2 = \\frac 1 2$$\n",
    "\n",
    "\n",
    "### Given\n",
    "\n",
    "Two positive integers k(k ≤ 7) and N(N ≤ 2<sup>k</sup>).\n",
    "\n",
    "In this problem, we begin with Tom, who in the 0th generation has genotype Aa Bb. Tom has two children in the 1st generation, each of whom has two children, and so on. Each organism always mates with an organism having genotype Aa Bb.\n",
    "\n",
    "## Return\n",
    "\n",
    "The probability that at least N Aa Bb organisms will belong to the k-th generation of Tom's family tree (don't count the Aa Bb mates at each level). Assume that Mendel's second law holds for the factors.\n",
    "\n"
   ]
  },
  {
   "cell_type": "markdown",
   "metadata": {},
   "source": [
    "# Solution - Bernoulli Trials\n",
    "\n",
    "\n",
    "## Probability of getting the double hetrozygous allele\n",
    "\n",
    "If an organism mates with a organism which has a hetrozygous allele, no matter what the other organisms allele type is, it will have a 50% chance of its offspring being hetrozygous. \n",
    "For two alleles, if independent, the probability of two alleles being hetrozygous is the product of the probability of geting each hetrozygous allele.\n",
    "\n",
    "$$Pr(AaBb) = Pr(Ab) * Pr(Bb)$$\n",
    "$$Pr(AaBb) = \\frac 1 2 * \\frac 1 2 = \\frac 1 4$$\n",
    "\n",
    "## Bernoulli \n",
    "\n",
    "This is a case of an offspring having both hetrozygous alleles or not. So it can be modelled by a Bernoulli Trial (success or failure).\n",
    "For independent trails, with two outcomes (double hetrozygous or not), the probability of N successes in n trials is denoted as:\n",
    "\n",
    "$$P(N~ successes~ in~ n~ trials) = \\binom{n}{N}p^N * q^{n-N} $$\n",
    "\n",
    "where p is the probability that it will occur (in this case 0.25) and q is the probability it won't (0.75).\n",
    "\n",
    "\n",
    "## Population\n",
    "\n",
    "For each offspring there will be a seperate probability. To get the final result we need to sum independent probabilities. The total number of offspring, O, will be k<sup>2</sup>.\n",
    "\n",
    "$$result = \\sum_{i=N}^O \\binom{O}{i}0.25^i * 0.75^{O-i}$$\n",
    "\n"
   ]
  },
  {
   "cell_type": "code",
   "execution_count": 2,
   "metadata": {},
   "outputs": [],
   "source": [
    "import math"
   ]
  },
  {
   "cell_type": "code",
   "execution_count": 7,
   "metadata": {},
   "outputs": [],
   "source": [
    "# function to calculate probability of the f\n",
    "def berHet(k, N):\n",
    "    result = 0\n",
    "    offspring = 2**k\n",
    "    \n",
    "    # loop from the number of successes (double Het offspring) to the population\n",
    "    for i in range(N, offspring + 1):\n",
    "        prob = (math.factorial(offspring) / (math.factorial(i) * math.factorial(offspring - i))) * (0.25**i) * (0.75**(offspring -i))\n",
    "        result += prob\n",
    "        \n",
    "    print(result)"
   ]
  },
  {
   "cell_type": "code",
   "execution_count": 5,
   "metadata": {},
   "outputs": [
    {
     "name": "stdout",
     "output_type": "stream",
     "text": [
      "0.68359375\n"
     ]
    }
   ],
   "source": [
    "# Test data\n",
    "berHet(2,1)"
   ]
  },
  {
   "cell_type": "code",
   "execution_count": 6,
   "metadata": {},
   "outputs": [
    {
     "name": "stdout",
     "output_type": "stream",
     "text": [
      "0.40648834849733056\n"
     ]
    }
   ],
   "source": [
    "# actual data\n",
    "berHet(5,9)"
   ]
  }
 ],
 "metadata": {
  "kernelspec": {
   "display_name": "Python 3",
   "language": "python",
   "name": "python3"
  },
  "language_info": {
   "codemirror_mode": {
    "name": "ipython",
    "version": 3
   },
   "file_extension": ".py",
   "mimetype": "text/x-python",
   "name": "python",
   "nbconvert_exporter": "python",
   "pygments_lexer": "ipython3",
   "version": "3.6.7"
  }
 },
 "nbformat": 4,
 "nbformat_minor": 2
}
