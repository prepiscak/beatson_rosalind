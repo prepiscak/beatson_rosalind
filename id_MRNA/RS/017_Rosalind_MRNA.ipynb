{
 "cells": [
  {
   "cell_type": "markdown",
   "metadata": {},
   "source": [
    "# Inferring mRNA from Protein\n",
    "\n",
    "## Pitfalls of Reverse Translation\n",
    "\n",
    "When researchers discover a new protein, they would like to infer the strand of mRNA from which this protein could have been translated, thus allowing them to locate genes associated with this protein on the genome.\n",
    "\n",
    "Unfortunately, although any RNA string can be translated into a unique protein string, reversing the process yields a huge number of possible RNA strings from a single protein string because most amino acids correspond to multiple RNA codons (see the RNA Codon Table).\n",
    "\n",
    "Because of memory considerations, most data formats that are built into languages have upper bounds on how large an integer can be: in some versions of Python, an \"int\" variable may be required to be no larger than 2$^{31}$ − 1, \n",
    ", or 2,147,483,647. As a result, to deal with very large numbers in Rosalind, we need to devise a system that allows us to manipulate large numbers without actually having to store large numbers.\n",
    "\n",
    "## Problem \n",
    "\n",
    "For positive integers $a$ and $n$, $a$ modulo $n$ (written \n",
    " $a$ mod $n$ in shorthand) is the remainder when $a$ is divided by $n$. For example, $29$ mod $11 = 7$ because $\n",
    "29=11×2+7$.\n",
    "\n",
    "Modular arithmetic is the study of addition, subtraction, multiplication, and division with respect to the modulo operation. We say that $a$ and $b$ are congruent modulo \n",
    "$n$ if $a$ mod $n = b$ mod $n$; in this case, we use the notation $a ≡ b$ mod $n$.\n",
    "\n",
    "Two useful facts in modular arithmetic are that if \n",
    "$a ≡ b$ mod $n$ and $c ≡ d$ mod $n$, then $a + c ≡ b + d $mod $n$ and $a × c ≡ b × d$ mod $n$. To check your understanding of these rules, you may wish to verify these relationships for \n",
    "$a = 29$, $b = 73$, $c = 10$, $d = 32$, and $n = 11$.\n",
    "\n",
    "As you will see in this exercise, some Rosalind problems will ask for a (very large) integer solution modulo a smaller number to avoid the computational pitfalls that arise "
   ]
  },
  {
   "cell_type": "markdown",
   "metadata": {},
   "source": [
    "## Thinking about the problem\n",
    "\n",
    "1. Get a list of the codon table as a dictionary.\n",
    "2. What are the stop codons and how many? 3\n",
    "3. How many codons per amino acid?\n",
    "\n",
    "* Add codon table to this workbook\n",
    "* Make a dictionary containing how many codons per amino acid.\n",
    "* Use number dictionary to get permutations. Adding probablities number of codons for amino acid 1 x number of codons for amino acid 2 x etc\n",
    "* Multiple the permutations by the number of stop codons.\n"
   ]
  },
  {
   "cell_type": "code",
   "execution_count": 1,
   "metadata": {},
   "outputs": [],
   "source": [
    "codons = {'UUU': 'F', 'CUU': 'L', 'AUU': 'I', 'GUU': 'V', 'UUC': 'F', 'CUC': 'L', 'AUC': 'I', 'GUC': 'V', 'UUA': 'L', 'CUA': 'L', \n",
    "           'AUA': 'I', 'GUA': 'V', 'UUG': 'L', 'CUG': 'L', 'AUG': 'M', 'GUG': 'V', 'UCU': 'S', 'CCU': 'P', 'ACU': 'T', 'GCU': 'A', \n",
    "           'UCC': 'S', 'CCC': 'P', 'ACC': 'T', 'GCC': 'A', 'UCA': 'S', 'CCA': 'P', 'ACA': 'T', 'GCA': 'A', 'UCG': 'S', 'CCG': 'P', \n",
    "           'ACG': 'T', 'GCG': 'A', 'UAU': 'Y', 'CAU': 'H', 'AAU': 'N', 'GAU': 'D', 'UAC': 'Y', 'CAC': 'H', 'AAC': 'N', 'GAC': 'D', \n",
    "           'UAA': 'Stop', 'CAA': 'Q', 'AAA': 'K', 'GAA': 'E', 'UAG': 'Stop', 'CAG': 'Q', 'AAG': 'K', 'GAG': 'E', 'UGU': 'C', \n",
    "           'CGU': 'R', 'AGU': 'S', 'GGU': 'G', 'UGC': 'C', 'CGC': 'R', 'AGC': 'S', 'GGC': 'G', 'UGA': 'Stop', 'CGA': 'R', 'AGA': 'R', \n",
    "           'GGA': 'G', 'UGG': 'W', 'CGG': 'R', 'AGG': 'R', 'GGG': 'G' \n",
    "}                                                              \n"
   ]
  },
  {
   "cell_type": "code",
   "execution_count": 2,
   "metadata": {},
   "outputs": [],
   "source": [
    "# Function to load rosalind string\n",
    "def loadRosalind(filepath):\n",
    "    # get file path\n",
    "    print(filepath)\n",
    "    ids = []\n",
    "    try:\n",
    "        with open(filepath) as file:\n",
    "            txt = file.read()\n",
    "        ids = txt.strip()\n",
    "    except:\n",
    "        print(\"File not found\")\n",
    "\n",
    "    return ids"
   ]
  },
  {
   "cell_type": "code",
   "execution_count": 3,
   "metadata": {},
   "outputs": [],
   "source": [
    "# Make a dictionary of the number of possible codons per ammino acid\n",
    "def codonPossible():                                         \n",
    "    possible = {}                                             \n",
    "    for k, v in codons.items():                                \n",
    "        if v not in possible:                                 \n",
    "            possible[v] = 0                                   \n",
    "        possible[v] += 1                                      \n",
    "    return (possible) "
   ]
  },
  {
   "cell_type": "code",
   "execution_count": 8,
   "metadata": {},
   "outputs": [],
   "source": [
    "def permutations(sequence):                              \n",
    "    per = codonPossible() \n",
    "    #print(per)\n",
    "    num = 3 # There are thress stop codons                                              \n",
    "    for a in sequence:                                        \n",
    "        num *= per[a]                                             \n",
    "    #return(num)\n",
    "    return (num % 1000000)  "
   ]
  },
  {
   "cell_type": "code",
   "execution_count": 9,
   "metadata": {},
   "outputs": [],
   "source": [
    "test = \"MA\""
   ]
  },
  {
   "cell_type": "code",
   "execution_count": 10,
   "metadata": {},
   "outputs": [
    {
     "name": "stdout",
     "output_type": "stream",
     "text": [
      "{'F': 2, 'L': 6, 'I': 3, 'V': 4, 'M': 1, 'S': 6, 'P': 4, 'T': 4, 'A': 4, 'Y': 2, 'H': 2, 'N': 2, 'D': 2, 'Stop': 3, 'Q': 2, 'K': 2, 'E': 2, 'C': 2, 'R': 6, 'G': 4, 'W': 1}\n",
      "12\n"
     ]
    }
   ],
   "source": [
    "print(permutations(test))"
   ]
  },
  {
   "cell_type": "code",
   "execution_count": 7,
   "metadata": {},
   "outputs": [
    {
     "name": "stdout",
     "output_type": "stream",
     "text": [
      "/mnt/c/Users/rwswo/Documents/Bioinformatics/git/rosalindTry/rosalind_mrna.txt\n",
      "161984\n"
     ]
    }
   ],
   "source": [
    "pro = loadRosalind(\"/mnt/c/Users/rwswo/Documents/Bioinformatics/git/rosalindTry/rosalind_mrna.txt\")\n",
    "print(permutations(pro))"
   ]
  }
 ],
 "metadata": {
  "kernelspec": {
   "display_name": "Python 3",
   "language": "python",
   "name": "python3"
  },
  "language_info": {
   "codemirror_mode": {
    "name": "ipython",
    "version": 3
   },
   "file_extension": ".py",
   "mimetype": "text/x-python",
   "name": "python",
   "nbconvert_exporter": "python",
   "pygments_lexer": "ipython3",
   "version": "3.6.8"
  }
 },
 "nbformat": 4,
 "nbformat_minor": 2
}
