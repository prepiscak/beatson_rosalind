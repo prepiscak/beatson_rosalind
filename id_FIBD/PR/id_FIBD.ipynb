{
 "cells": [
  {
   "cell_type": "markdown",
   "metadata": {},
   "source": [
    "# Mortal Fibonacci Rabbits\n",
    "\n",
    "http://rosalind.info/problems/fibd/\n"
   ]
  },
  {
   "cell_type": "code",
   "execution_count": 7,
   "metadata": {},
   "outputs": [],
   "source": [
    "def fibmort(n,k,m):\n",
    "    months=n\n",
    "    offsprings=k\n",
    "    lifespan=m\n",
    "\n",
    "    baby_list=[0]*lifespan\n",
    "    mature_list=[0]*lifespan\n",
    "    total_bunnies_list=[0]*lifespan\n",
    "    \n",
    "    \n",
    "    for month in range(1,months+1):\n",
    "        if month == 1:\n",
    "            babies = 1\n",
    "            mature = 0\n",
    "            total_bunnies = mature + babies\n",
    "        \n",
    "            baby_list.append(babies)\n",
    "            mature_list.append(mature)\n",
    "            total_bunnies_list.append(total_bunnies)\n",
    "        else:\n",
    "            mature = (mature_list[-1]+baby_list[-1]-baby_list[-(lifespan)])\n",
    "            babies = offsprings*mature_list[-1]\n",
    "            \n",
    "            # update baby and mature list for this generation\n",
    "            baby_list.append(babies)\n",
    "            mature_list.append(mature)\n",
    "        \n",
    "            # calculate total_bunnies for this generation\n",
    "            total_bunnies = mature_list[-1] + baby_list[-1]\n",
    "            total_bunnies_list.append(total_bunnies)\n",
    "\n",
    "    return(total_bunnies_list[-1])"
   ]
  },
  {
   "cell_type": "code",
   "execution_count": 8,
   "metadata": {},
   "outputs": [
    {
     "data": {
      "text/plain": [
       "4"
      ]
     },
     "execution_count": 8,
     "metadata": {},
     "output_type": "execute_result"
    }
   ],
   "source": [
    "fibmort(6,1,3)"
   ]
  },
  {
   "cell_type": "code",
   "execution_count": 6,
   "metadata": {},
   "outputs": [
    {
     "data": {
      "text/plain": [
       "[1, 1, 2, 2, 3, 4, 5, 7, 9, 12, 16, 21, 28, 37, 49, 65, 86, 114, 151]"
      ]
     },
     "execution_count": 6,
     "metadata": {},
     "output_type": "execute_result"
    }
   ],
   "source": [
    "[fibmort(i, 1, 3) for i in range(1,20)]"
   ]
  }
 ],
 "metadata": {
  "kernelspec": {
   "display_name": "Python 3",
   "language": "python",
   "name": "python3"
  },
  "language_info": {
   "codemirror_mode": {
    "name": "ipython",
    "version": 3
   },
   "file_extension": ".py",
   "mimetype": "text/x-python",
   "name": "python",
   "nbconvert_exporter": "python",
   "pygments_lexer": "ipython3",
   "version": "3.7.1"
  }
 },
 "nbformat": 4,
 "nbformat_minor": 2
}
