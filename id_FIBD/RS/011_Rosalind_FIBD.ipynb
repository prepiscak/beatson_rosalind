{
 "cells": [
  {
   "cell_type": "markdown",
   "metadata": {},
   "source": [
    "# Wabbit Season\n",
    "## Rosalind problem - 11\n",
    "\n",
    "In “Rabbits and Recurrence Relations”, we mentioned the disaster caused by introducing European rabbits into Australia. By the turn of the 20th Century, the situation was so out of control that the creatures could not be killed fast enough to slow their spread.\n",
    "\n",
    "The conclusion? Build a fence! The fence, intended to preserve the sanctity of Western Australia, was completed in 1907 after undergoing revisions to push it back as the bunnies pushed their frontier ever westward. If it sounds like a crazy plan, the Australians at the time seem to have concurred.\n",
    "\n",
    "By 1950, Australian rabbits numbered 600 million, causing the government to decide to release a virus (called myxoma) into the wild, which cut down the rabbits until they acquired resistance. In a final Hollywood twist, another experimental rabbit virus escaped in 1991, and some resistance has already been observed.\n",
    "\n",
    "The bunnies will not be stopped, but they don't live forever, and so in this problem, our aim is to expand Fibonacci's rabbit population model to allow for mortal rabbits.\n",
    "\n",
    "### Problem\n",
    "\n",
    "Recall the definition of the Fibonacci numbers from “Rabbits and Recurrence Relations”, which followed the recurrence relation Fn=Fn−1+Fn−2 and assumed that each pair of rabbits reaches maturity in one month and produces a single pair of offspring (one male, one female) each subsequent month.\n",
    "\n",
    "Our aim is to somehow modify this recurrence relation to achieve a dynamic programming solution in the case that all rabbits die out after a fixed number of months. If the rabbits live for three months then they reproduce only twice before dying.\n",
    "\n",
    "#### Given\n",
    "\n",
    "Positive integers n≤100 and m≤20.\n",
    "\n",
    "#### Return\n",
    "\n",
    "The total number of pairs of rabbits that will remain after the n-th month if all rabbits live for m months.\n",
    "\n",
    "## Sample Dataset\n",
    "\n",
    "```\n",
    "6 3\n",
    "```\n",
    "\n",
    "## Sample Output\n",
    "\n",
    "```\n",
    "4\n",
    "```"
   ]
  },
  {
   "cell_type": "code",
   "execution_count": 1,
   "metadata": {},
   "outputs": [],
   "source": [
    "'''\n",
    "Input: Three integer variables for number of months, breeding rate, and life span.\n",
    "Use a list to keep track of birth month of the bunnies. This will be used to record the ex-bunnies.\n",
    "Output: Single integer for the number of pairs of rabbits.\n",
    "'''\n",
    "def rabbits (n, k, l):\n",
    "    pairs  = 0\n",
    "    b = 0 # number of breeding pairs\n",
    "    m = 0 # number of mature pairs\n",
    "    i = 0 # number of immature pairs\n",
    "    bm = []    # list of pairs for each month\n",
    "    pairs = b + m + i\n",
    "    print(\"Month | Pairs of Rabbits\")\n",
    "    print(\"------------------------\")\n",
    "    # loop through n and build up number of pairs\n",
    "    for month in range(1, n + 1):\n",
    "        if  month == 1:\n",
    "            i = 1\n",
    "            pairs = b + m + i\n",
    "            print(month, \"|\", pairs)\n",
    "            bm.append(i)\n",
    "        elif month > l:\n",
    "            # Once you have reached the life span of the first bunnies start to subtract\n",
    "            b = b + m\n",
    "            m = i\n",
    "            i = b * k\n",
    "            b = b - bm[month - l - 1]\n",
    "            pairs = b + m + i\n",
    "            print(month, \"|\", pairs)\n",
    "            bm.append(i)\n",
    "        else:\n",
    "            b = b + m\n",
    "            m = i\n",
    "            i = b * k\n",
    "            pairs = b + m + i\n",
    "            print(month, \"|\", pairs)\n",
    "            bm.append(i)\n",
    "    return pairs"
   ]
  },
  {
   "cell_type": "code",
   "execution_count": 7,
   "metadata": {},
   "outputs": [
    {
     "name": "stdin",
     "output_type": "stream",
     "text": [
      "Please enter number of months:  10\n",
      "Please enter life span of the wascally wabbits:  3\n"
     ]
    }
   ],
   "source": [
    "# Get variables\n",
    "n = int(input(\"Please enter number of months: \"))\n",
    "m = int(input(\"Please enter life span of the wascally wabbits: \"))\n"
   ]
  },
  {
   "cell_type": "code",
   "execution_count": 8,
   "metadata": {},
   "outputs": [
    {
     "name": "stdout",
     "output_type": "stream",
     "text": [
      "10 1 3\n",
      "Month | Pairs of Rabbits\n",
      "------------------------\n",
      "1 | 1\n",
      "2 | 1\n",
      "3 | 2\n",
      "4 | 2\n",
      "5 | 3\n",
      "6 | 4\n",
      "7 | 5\n",
      "8 | 7\n",
      "9 | 9\n",
      "10 | 12\n"
     ]
    },
    {
     "data": {
      "text/plain": [
       "12"
      ]
     },
     "execution_count": 8,
     "metadata": {},
     "output_type": "execute_result"
    }
   ],
   "source": [
    "# Calculation for mortal bunnies\n",
    "rabbits(n, 1, m)"
   ]
  }
 ],
 "metadata": {
  "kernelspec": {
   "display_name": "Python 3",
   "language": "python",
   "name": "python3"
  },
  "language_info": {
   "codemirror_mode": {
    "name": "ipython",
    "version": 3
   },
   "file_extension": ".py",
   "mimetype": "text/x-python",
   "name": "python",
   "nbconvert_exporter": "python",
   "pygments_lexer": "ipython3",
   "version": "3.6.8"
  }
 },
 "nbformat": 4,
 "nbformat_minor": 2
}
