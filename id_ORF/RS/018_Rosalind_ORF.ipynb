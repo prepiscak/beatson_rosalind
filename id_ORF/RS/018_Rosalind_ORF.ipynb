{
 "cells": [
  {
   "cell_type": "markdown",
   "metadata": {},
   "source": [
    "# Open Reading Frame"
   ]
  },
  {
   "cell_type": "markdown",
   "metadata": {},
   "source": [
    "## Transcription May Begin Anywhere\n",
    "\n",
    "In “Transcribing DNA into RNA”, we discussed the transcription of DNA into RNA, and in “Translating RNA into Protein”, we examined the translation of RNA into a chain of amino acids for the construction of proteins. We can view these two processes as a single step in which we directly translate a DNA string into a protein string, thus calling for a DNA codon table.\n",
    "\n",
    "However, three immediate wrinkles of complexity arise when we try to pass directly from DNA to proteins. First, not all DNA will be transcribed into RNA: so-called junk DNA appears to have no practical purpose for cellular function. Second, we can begin translation at any position along a strand of RNA, meaning that any substring of a DNA string can serve as a template for translation, as long as it begins with a start codon, ends with a stop codon, and has no other stop codons in the middle. See Figure 1. As a result, the same RNA string can actually be translated in three different ways, depending on how we group triplets of symbols into codons. For example, ...AUGCUGAC... can be translated as ...AUGCUG..., ...UGCUGA..., and ...GCUGAC..., which will typically produce wildly different protein strings."
   ]
  },
  {
   "cell_type": "markdown",
   "metadata": {},
   "source": [
    "## Problem\n",
    "\n",
    "Either strand of a DNA double helix can serve as the coding strand for RNA transcription. Hence, a given DNA string implies six total reading frames, or ways in which the same region of DNA can be translated into amino acids: three reading frames result from reading the string itself, whereas three more result from reading its reverse complement.\n",
    "An open reading frame (ORF) is one which starts from the start codon and ends by stop codon, without any other stop codons in between. Thus, a candidate protein string is derived by translating an open reading frame into amino acids until a stop codon is reached.\n",
    "\n",
    "### Given: \n",
    "A DNA string s of length at most 1 kbp in FASTA format.\n",
    "\n",
    "### Return: \n",
    "\n",
    "Every distinct candidate protein string that can be translated from ORFs of s. Strings can be returned in any order."
   ]
  },
  {
   "cell_type": "code",
   "execution_count": 1,
   "metadata": {},
   "outputs": [
    {
     "name": "stdout",
     "output_type": "stream",
     "text": [
      "AGCCATGTAGCTAACTCAGGTTACATGGGGATGACCCCGCGACTTGGATTAGAGTCTCTTTTGGAATAAGCCTGAATGATCCGAGTAGCATCTCAG\n"
     ]
    }
   ],
   "source": [
    "# Sample Dataset\n",
    "sd = \"\"\">Rosalind_99\n",
    "AGCCATGTAGCTAACTCAGGTTACATGGGGATGACCCCGCGACTTGGATTAGAGTCTCTTTTGGAATAAGCCTGAATGATCCGAGTAGCATCTCAG\"\"\"\n",
    "print(sd.split('\\n')[1])"
   ]
  },
  {
   "cell_type": "markdown",
   "metadata": {},
   "source": [
    "### Sample Output\n",
    "```\n",
    "MLLGSFRLIPKETLIQVAGSSPCNLS\n",
    "M\n",
    "MGMTPRLGLESLLE\n",
    "MTPRLGLESLLE\n",
    "```"
   ]
  },
  {
   "cell_type": "code",
   "execution_count": 16,
   "metadata": {},
   "outputs": [],
   "source": [
    "# Libraries\n",
    "import re\n",
    "import Bio.Seq as bio"
   ]
  },
  {
   "cell_type": "code",
   "execution_count": 3,
   "metadata": {},
   "outputs": [],
   "source": [
    "# load fasta"
   ]
  },
  {
   "cell_type": "code",
   "execution_count": 4,
   "metadata": {},
   "outputs": [],
   "source": [
    "# Start Codon\n",
    "start = \"ATG\""
   ]
  },
  {
   "cell_type": "code",
   "execution_count": 5,
   "metadata": {},
   "outputs": [],
   "source": [
    "# Stop Codons\n",
    "stop = [\"TAG\", \"TGA\", \"TAA\"]"
   ]
  },
  {
   "cell_type": "code",
   "execution_count": 6,
   "metadata": {},
   "outputs": [],
   "source": [
    "# Codon dictionary\n",
    "codons = {'TTT': 'F', 'CTT': 'L', 'ATT': 'I', 'GTT': 'V', 'TTC': 'F', 'CTC': 'L', 'ATC': 'I', 'GTC': 'V', 'TTA': 'L', 'CTA': 'L', \n",
    "           'ATA': 'I', 'GTA': 'V', 'TTG': 'L', 'CTG': 'L', 'ATG': 'M', 'GTG': 'V', 'TCT': 'S', 'CCT': 'P', 'ACT': 'T', 'GCT': 'A', \n",
    "           'TCC': 'S', 'CCC': 'P', 'ACC': 'T', 'GCC': 'A', 'TCA': 'S', 'CCA': 'P', 'ACA': 'T', 'GCA': 'A', 'TCG': 'S', 'CCG': 'P', \n",
    "           'ACG': 'T', 'GCG': 'A', 'TAT': 'Y', 'CAT': 'H', 'AAT': 'N', 'GAT': 'D', 'TAC': 'Y', 'CAC': 'H', 'AAC': 'N', 'GAC': 'D', \n",
    "           'TAA': 'Stop', 'CAA': 'Q', 'AAA': 'K', 'GAA': 'E', 'TAG': 'Stop', 'CAG': 'Q', 'AAG': 'K', 'GAG': 'E', 'TGT': 'C', \n",
    "           'CGT': 'R', 'AGT': 'S', 'GGT': 'G', 'TGC': 'C', 'CGC': 'R', 'AGC': 'S', 'GGC': 'G', 'TGA': 'Stop', 'CGA': 'R', 'AGA': 'R', \n",
    "           'GGA': 'G', 'TGG': 'W', 'CGG': 'R', 'AGG': 'R', 'GGG': 'G' \n",
    "} "
   ]
  },
  {
   "cell_type": "code",
   "execution_count": 7,
   "metadata": {},
   "outputs": [],
   "source": [
    "# Find index of start codons\n",
    "def checkMotif(fasta):\n",
    "    print(fasta)\n",
    "    inxLst = []\n",
    "    motif = re.compile(start)\n",
    "    inxLst = [(i.start() + 1) for i in re.finditer(motif, fasta)]\n",
    "   # inxLst = [i.end() for i in re.finditer(motif, fasta)]\n",
    "    return inxLst"
   ]
  },
  {
   "cell_type": "code",
   "execution_count": 8,
   "metadata": {},
   "outputs": [],
   "source": [
    "# Convert sequence to amino acids\n",
    "def translate(seq):\n",
    "    #print(seq)\n",
    "    decoded = \"\"\n",
    "    for i in range(0, len(seq)-3, 3):\n",
    "        if len(seq[i:]) < 3 or codons[seq[i:i+3]] == \"Stop\":\n",
    "            break\n",
    "        else:\n",
    "            decoded += codons[seq[i:i+3]]\n",
    "    print(decoded)"
   ]
  },
  {
   "cell_type": "code",
   "execution_count": 9,
   "metadata": {},
   "outputs": [
    {
     "name": "stdout",
     "output_type": "stream",
     "text": [
      "AGCCATGTAGCTAACTCAGGTTACATGGGGATGACCCCGCGACTTGGATTAGAGTCTCTTTTGGAATAAGCCTGAATGATCCGAGTAGCATCTCAG\n",
      "[5, 25, 31, 76]\n"
     ]
    }
   ],
   "source": [
    "print(checkMotif(sd.split('\\n')[1]))"
   ]
  },
  {
   "cell_type": "code",
   "execution_count": 46,
   "metadata": {},
   "outputs": [],
   "source": [
    "def trans2(seq):\n",
    "    oh = len(seq)%3\n",
    "    if oh != 0:\n",
    "        #print(len(seq)%3)\n",
    "        seq = seq[:-oh]\n",
    "    try:\n",
    "        print(seq.translate(to_stop=True))\n",
    "    except:\n",
    "        print(\"\")"
   ]
  },
  {
   "cell_type": "code",
   "execution_count": 47,
   "metadata": {},
   "outputs": [],
   "source": [
    "def main():\n",
    "    # get sequence\n",
    "    #seq = sd.split('\\n')[1]\n",
    "    seq = bio.Seq(sd.split('\\n')[1])\n",
    "    # forward strand\n",
    "    fIndx = checkMotif(sd.split('\\n')[1])\n",
    "    for i in fIndx:\n",
    "        translate(seq[(i-1):])\n",
    "        trans2(seq[(i-1):])\n",
    "    "
   ]
  },
  {
   "cell_type": "code",
   "execution_count": 48,
   "metadata": {},
   "outputs": [
    {
     "name": "stdout",
     "output_type": "stream",
     "text": [
      "AGCCATGTAGCTAACTCAGGTTACATGGGGATGACCCCGCGACTTGGATTAGAGTCTCTTTTGGAATAAGCCTGAATGATCCGAGTAGCATCTCAG\n",
      "M\n",
      "M\n",
      "MGMTPRLGLESLLE\n",
      "MGMTPRLGLESLLE\n",
      "MTPRLGLESLLE\n",
      "MTPRLGLESLLE\n",
      "MIRVAS\n",
      "MIRVASQ\n"
     ]
    }
   ],
   "source": [
    "main()"
   ]
  },
  {
   "cell_type": "code",
   "execution_count": 12,
   "metadata": {},
   "outputs": [
    {
     "name": "stdout",
     "output_type": "stream",
     "text": [
      "GACTCTACGATGAGCCTAGTAAGTCCGAATAAGGTTTTCTCTGAGATTAGGTTCAGCGCCCCAGTAGGGGTACATTGGACTCAATCGATGTACCGA\n"
     ]
    }
   ],
   "source": [
    "print(sd.split('\\n')[1][::-1])"
   ]
  },
  {
   "cell_type": "code",
   "execution_count": 50,
   "metadata": {},
   "outputs": [
    {
     "name": "stdout",
     "output_type": "stream",
     "text": [
      "AGCCATGTAGCTAACTCAGGTTACATGGGGATGACCCCGCGACTTGGATTAGAGTCTCTTTTGGAATAAGCCTGAATGATCCGAGTAGCATCTCAG\n",
      "SHVANSGYMGMTPRLGLESLLE*A*MIRVASQ\n",
      "LRCYSDHSGLFQKRL\n"
     ]
    }
   ],
   "source": [
    "import Bio.Seq as bio\n",
    "sq = bio.Seq(sd.split('\\n')[1])\n",
    "print(sq)\n",
    "\n",
    "print(sq.translate())\n",
    "\n",
    "rcseq = sq.reverse_complement()\n",
    "trans2(rseq)"
   ]
  },
  {
   "cell_type": "code",
   "execution_count": null,
   "metadata": {},
   "outputs": [],
   "source": []
  }
 ],
 "metadata": {
  "kernelspec": {
   "display_name": "Python 3",
   "language": "python",
   "name": "python3"
  },
  "language_info": {
   "codemirror_mode": {
    "name": "ipython",
    "version": 3
   },
   "file_extension": ".py",
   "mimetype": "text/x-python",
   "name": "python",
   "nbconvert_exporter": "python",
   "pygments_lexer": "ipython3",
   "version": "3.6.8"
  }
 },
 "nbformat": 4,
 "nbformat_minor": 2
}
